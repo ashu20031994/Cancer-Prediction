{
 "cells": [
  {
   "cell_type": "code",
   "execution_count": 41,
   "metadata": {
    "collapsed": true
   },
   "outputs": [],
   "source": [
    "import pandas as pd\n",
    "import numpy as np\n",
    "import seaborn as sns\n",
    "import matplotlib.pyplot as plt\n",
    "import re\n",
    "from nltk.corpus import stopwords\n",
    "from nltk.tokenize import word_tokenize\n",
    "train_variants=pd.read_csv(\"training_variants\")\n",
    "test_variants=pd.read_csv(\"test_variants\")\n",
    "train_text=pd.read_csv(\"training_text\",sep=\"\\|\\|\",engine=\"python\",names=[\"ID\",\"TEXT\"],skiprows=1)\n",
    "test_text=pd.read_csv(\"test_text\",sep=\"\\|\\|\",engine=\"python\",names=[\"ID\",\"TEXT\"],skiprows=1)\n"
   ]
  },
  {
   "cell_type": "code",
   "execution_count": 42,
   "metadata": {},
   "outputs": [
    {
     "name": "stdout",
     "output_type": "stream",
     "text": [
      "   ID    Gene             Variation  Class  \\\n",
      "0   0  FAM58A  Truncating Mutations      1   \n",
      "1   1     CBL                 W802*      2   \n",
      "2   2     CBL                 Q249E      2   \n",
      "3   3     CBL                 N454D      3   \n",
      "4   4     CBL                 L399V      4   \n",
      "\n",
      "                                                TEXT  \n",
      "0  Cyclin-dependent kinases (CDKs) regulate a var...  \n",
      "1   Abstract Background  Non-small cell lung canc...  \n",
      "2   Abstract Background  Non-small cell lung canc...  \n",
      "3  Recent evidence has demonstrated that acquired...  \n",
      "4  Oncogenic mutations in the monomeric Casitas B...  \n"
     ]
    }
   ],
   "source": [
    "train = pd.merge(train_variants, train_text, on='ID')\n",
    "print train.head()"
   ]
  },
  {
   "cell_type": "code",
   "execution_count": 43,
   "metadata": {},
   "outputs": [
    {
     "name": "stdout",
     "output_type": "stream",
     "text": [
      "   ID     Gene Variation                                               TEXT\n",
      "0   0    ACSL4     R570S  2. This mutation resulted in a myeloproliferat...\n",
      "1   1    NAGLU     P521L   Abstract The Large Tumor Suppressor 1 (LATS1)...\n",
      "2   2      PAH     L333F  Vascular endothelial growth factor receptor (V...\n",
      "3   3     ING1     A148D  Inflammatory myofibroblastic tumor (IMT) is a ...\n",
      "4   4  TMEM216      G77A   Abstract Retinoblastoma is a pediatric retina...\n"
     ]
    }
   ],
   "source": [
    "test = pd.merge(test_variants, test_text, on='ID')\n",
    "print test.head()"
   ]
  },
  {
   "cell_type": "code",
   "execution_count": 44,
   "metadata": {},
   "outputs": [
    {
     "name": "stdout",
     "output_type": "stream",
     "text": [
      "   ID    Gene             Variation  Class  \\\n",
      "0   0  FAM58A  Truncating Mutations      1   \n",
      "1   1     CBL                 W802*      2   \n",
      "2   2     CBL                 Q249E      2   \n",
      "3   3     CBL                 N454D      3   \n",
      "4   4     CBL                 L399V      4   \n",
      "\n",
      "                                                TEXT  LenText  \n",
      "0  Cyclin-dependent kinases (CDKs) regulate a var...    39765  \n",
      "1   Abstract Background  Non-small cell lung canc...    36831  \n",
      "2   Abstract Background  Non-small cell lung canc...    36831  \n",
      "3  Recent evidence has demonstrated that acquired...    36308  \n",
      "4  Oncogenic mutations in the monomeric Casitas B...    41427  \n"
     ]
    }
   ],
   "source": [
    "# we add a new column in the dataframe called 'LenText' which contains the length of each text field\n",
    "train.loc[:,'LenText'] =(train['TEXT'].str.len()).astype(int)\n",
    "print train.head()"
   ]
  },
  {
   "cell_type": "code",
   "execution_count": 45,
   "metadata": {},
   "outputs": [
    {
     "name": "stdout",
     "output_type": "stream",
     "text": [
      "   ID     Gene Variation                                               TEXT  \\\n",
      "0   0    ACSL4     R570S  2. This mutation resulted in a myeloproliferat...   \n",
      "1   1    NAGLU     P521L   Abstract The Large Tumor Suppressor 1 (LATS1)...   \n",
      "2   2      PAH     L333F  Vascular endothelial growth factor receptor (V...   \n",
      "3   3     ING1     A148D  Inflammatory myofibroblastic tumor (IMT) is a ...   \n",
      "4   4  TMEM216      G77A   Abstract Retinoblastoma is a pediatric retina...   \n",
      "\n",
      "   LenText  \n",
      "0    49925  \n",
      "1    31460  \n",
      "2    75419  \n",
      "3    54100  \n",
      "4    77127  \n"
     ]
    }
   ],
   "source": [
    "# we add a new column in the dataframe called 'LenText' which contains the length of each text field\n",
    "test.loc[:,'LenText'] =(test['TEXT'].str.len()).astype(int)\n",
    "print test.head()"
   ]
  },
  {
   "cell_type": "code",
   "execution_count": 46,
   "metadata": {},
   "outputs": [
    {
     "data": {
      "text/html": [
       "<div>\n",
       "<style>\n",
       "    .dataframe thead tr:only-child th {\n",
       "        text-align: right;\n",
       "    }\n",
       "\n",
       "    .dataframe thead th {\n",
       "        text-align: left;\n",
       "    }\n",
       "\n",
       "    .dataframe tbody tr th {\n",
       "        vertical-align: top;\n",
       "    }\n",
       "</style>\n",
       "<table border=\"1\" class=\"dataframe\">\n",
       "  <thead>\n",
       "    <tr style=\"text-align: right;\">\n",
       "      <th></th>\n",
       "      <th>ID</th>\n",
       "      <th>Gene</th>\n",
       "      <th>Variation</th>\n",
       "      <th>Class</th>\n",
       "      <th>TEXT</th>\n",
       "      <th>LenText</th>\n",
       "      <th>Text_count</th>\n",
       "    </tr>\n",
       "  </thead>\n",
       "  <tbody>\n",
       "    <tr>\n",
       "      <th>0</th>\n",
       "      <td>0</td>\n",
       "      <td>FAM58A</td>\n",
       "      <td>Truncating Mutations</td>\n",
       "      <td>1</td>\n",
       "      <td>Cyclin-dependent kinases (CDKs) regulate a var...</td>\n",
       "      <td>39765</td>\n",
       "      <td>6089</td>\n",
       "    </tr>\n",
       "    <tr>\n",
       "      <th>1</th>\n",
       "      <td>1</td>\n",
       "      <td>CBL</td>\n",
       "      <td>W802*</td>\n",
       "      <td>2</td>\n",
       "      <td>Abstract Background  Non-small cell lung canc...</td>\n",
       "      <td>36831</td>\n",
       "      <td>5722</td>\n",
       "    </tr>\n",
       "    <tr>\n",
       "      <th>2</th>\n",
       "      <td>2</td>\n",
       "      <td>CBL</td>\n",
       "      <td>Q249E</td>\n",
       "      <td>2</td>\n",
       "      <td>Abstract Background  Non-small cell lung canc...</td>\n",
       "      <td>36831</td>\n",
       "      <td>5722</td>\n",
       "    </tr>\n",
       "    <tr>\n",
       "      <th>3</th>\n",
       "      <td>3</td>\n",
       "      <td>CBL</td>\n",
       "      <td>N454D</td>\n",
       "      <td>3</td>\n",
       "      <td>Recent evidence has demonstrated that acquired...</td>\n",
       "      <td>36308</td>\n",
       "      <td>5572</td>\n",
       "    </tr>\n",
       "    <tr>\n",
       "      <th>4</th>\n",
       "      <td>4</td>\n",
       "      <td>CBL</td>\n",
       "      <td>L399V</td>\n",
       "      <td>4</td>\n",
       "      <td>Oncogenic mutations in the monomeric Casitas B...</td>\n",
       "      <td>41427</td>\n",
       "      <td>6202</td>\n",
       "    </tr>\n",
       "  </tbody>\n",
       "</table>\n",
       "</div>"
      ],
      "text/plain": [
       "   ID    Gene             Variation  Class  \\\n",
       "0   0  FAM58A  Truncating Mutations      1   \n",
       "1   1     CBL                 W802*      2   \n",
       "2   2     CBL                 Q249E      2   \n",
       "3   3     CBL                 N454D      3   \n",
       "4   4     CBL                 L399V      4   \n",
       "\n",
       "                                                TEXT  LenText  Text_count  \n",
       "0  Cyclin-dependent kinases (CDKs) regulate a var...    39765        6089  \n",
       "1   Abstract Background  Non-small cell lung canc...    36831        5722  \n",
       "2   Abstract Background  Non-small cell lung canc...    36831        5722  \n",
       "3  Recent evidence has demonstrated that acquired...    36308        5572  \n",
       "4  Oncogenic mutations in the monomeric Casitas B...    41427        6202  "
      ]
     },
     "execution_count": 46,
     "metadata": {},
     "output_type": "execute_result"
    }
   ],
   "source": [
    "# creating a new column called Text Count\n",
    "train.loc[:, 'Text_count']  = train[\"TEXT\"].apply(lambda x: len(x.split()))\n",
    "train.head()\n"
   ]
  },
  {
   "cell_type": "code",
   "execution_count": 47,
   "metadata": {},
   "outputs": [
    {
     "data": {
      "text/html": [
       "<div>\n",
       "<style>\n",
       "    .dataframe thead tr:only-child th {\n",
       "        text-align: right;\n",
       "    }\n",
       "\n",
       "    .dataframe thead th {\n",
       "        text-align: left;\n",
       "    }\n",
       "\n",
       "    .dataframe tbody tr th {\n",
       "        vertical-align: top;\n",
       "    }\n",
       "</style>\n",
       "<table border=\"1\" class=\"dataframe\">\n",
       "  <thead>\n",
       "    <tr style=\"text-align: right;\">\n",
       "      <th></th>\n",
       "      <th>ID</th>\n",
       "      <th>Gene</th>\n",
       "      <th>Variation</th>\n",
       "      <th>TEXT</th>\n",
       "      <th>LenText</th>\n",
       "      <th>Text_count</th>\n",
       "    </tr>\n",
       "  </thead>\n",
       "  <tbody>\n",
       "    <tr>\n",
       "      <th>0</th>\n",
       "      <td>0</td>\n",
       "      <td>ACSL4</td>\n",
       "      <td>R570S</td>\n",
       "      <td>2. This mutation resulted in a myeloproliferat...</td>\n",
       "      <td>49925</td>\n",
       "      <td>7417</td>\n",
       "    </tr>\n",
       "    <tr>\n",
       "      <th>1</th>\n",
       "      <td>1</td>\n",
       "      <td>NAGLU</td>\n",
       "      <td>P521L</td>\n",
       "      <td>Abstract The Large Tumor Suppressor 1 (LATS1)...</td>\n",
       "      <td>31460</td>\n",
       "      <td>4706</td>\n",
       "    </tr>\n",
       "    <tr>\n",
       "      <th>2</th>\n",
       "      <td>2</td>\n",
       "      <td>PAH</td>\n",
       "      <td>L333F</td>\n",
       "      <td>Vascular endothelial growth factor receptor (V...</td>\n",
       "      <td>75419</td>\n",
       "      <td>11080</td>\n",
       "    </tr>\n",
       "    <tr>\n",
       "      <th>3</th>\n",
       "      <td>3</td>\n",
       "      <td>ING1</td>\n",
       "      <td>A148D</td>\n",
       "      <td>Inflammatory myofibroblastic tumor (IMT) is a ...</td>\n",
       "      <td>54100</td>\n",
       "      <td>8376</td>\n",
       "    </tr>\n",
       "    <tr>\n",
       "      <th>4</th>\n",
       "      <td>4</td>\n",
       "      <td>TMEM216</td>\n",
       "      <td>G77A</td>\n",
       "      <td>Abstract Retinoblastoma is a pediatric retina...</td>\n",
       "      <td>77127</td>\n",
       "      <td>11159</td>\n",
       "    </tr>\n",
       "  </tbody>\n",
       "</table>\n",
       "</div>"
      ],
      "text/plain": [
       "   ID     Gene Variation                                               TEXT  \\\n",
       "0   0    ACSL4     R570S  2. This mutation resulted in a myeloproliferat...   \n",
       "1   1    NAGLU     P521L   Abstract The Large Tumor Suppressor 1 (LATS1)...   \n",
       "2   2      PAH     L333F  Vascular endothelial growth factor receptor (V...   \n",
       "3   3     ING1     A148D  Inflammatory myofibroblastic tumor (IMT) is a ...   \n",
       "4   4  TMEM216      G77A   Abstract Retinoblastoma is a pediatric retina...   \n",
       "\n",
       "   LenText  Text_count  \n",
       "0    49925        7417  \n",
       "1    31460        4706  \n",
       "2    75419       11080  \n",
       "3    54100        8376  \n",
       "4    77127       11159  "
      ]
     },
     "execution_count": 47,
     "metadata": {},
     "output_type": "execute_result"
    }
   ],
   "source": [
    "# creating a new column called Text Count\n",
    "test.loc[:, 'Text_count']  = test[\"TEXT\"].apply(lambda x: len(x.split()))\n",
    "test.head()"
   ]
  },
  {
   "cell_type": "code",
   "execution_count": 48,
   "metadata": {},
   "outputs": [
    {
     "ename": "NameError",
     "evalue": "name 'Class' is not defined",
     "output_type": "error",
     "traceback": [
      "\u001b[1;31m---------------------------------------------------------------------------\u001b[0m",
      "\u001b[1;31mNameError\u001b[0m                                 Traceback (most recent call last)",
      "\u001b[1;32m<ipython-input-48-2c706ecdb128>\u001b[0m in \u001b[0;36m<module>\u001b[1;34m()\u001b[0m\n\u001b[1;32m----> 1\u001b[1;33m \u001b[1;32mprint\u001b[0m \u001b[0mtrain\u001b[0m\u001b[1;33m[\u001b[0m\u001b[0mClass\u001b[0m\u001b[1;33m]\u001b[0m\u001b[1;33m.\u001b[0m\u001b[0mcount\u001b[0m\u001b[1;33m\u001b[0m\u001b[0m\n\u001b[0m",
      "\u001b[1;31mNameError\u001b[0m: name 'Class' is not defined"
     ]
    }
   ],
   "source": [
    "print train[Class].count"
   ]
  },
  {
   "cell_type": "markdown",
   "metadata": {},
   "source": [
    " ## Unique Variations"
   ]
  },
  {
   "cell_type": "code",
   "execution_count": 49,
   "metadata": {},
   "outputs": [
    {
     "name": "stdout",
     "output_type": "stream",
     "text": [
      "set(['Y62C', 'D399N', 'L858M', 'Q531*', 'E1586G', 'SRGAP3-RAF1 Fusion', 'H93Q', 'H93R', 'V564I', 'H93D', 'L1195V', 'K4E', 'T1623I', 'E203K', 'E2856A', 'P380R', 'R2505*', 'S786F', 'Y1463S', 'N581Y', 'G464E', 'S32I', 'N581S', 'MAGI3-AKT3 Fusion', 'A502_Y503dup', 'H697Y', 'Y53H', 'L2396F', 'R2450*', 'Y24C', 'N581D', 'S270L', 'D289del', 'V1188L', 'W557_K558del', 'L191H', 'H118P', 'EP300-MOZ Fusion', 'D603N', 'G480W', 'D289_D292del', 'L1122V', 'D351H', 'D603G', 'F460L', 'G17V', 'S860L', 'P86H', 'G1738R', 'C450_K451insMIEWMI', 'V411L', 'T1324N', 'G17A', 'V555_V559del', 'G776S', 'GPIAP1-PDGFRB Fusion', 'E598_Y599insGLVQVTGSSDNEYFYVDFREYE', 'D171G', 'P124Q', 'G165V', 'P124S', 'G829R', 'G165R', 'R496C', 'D835del', 'P95S', 'K558_E562del', 'R496H', 'R383*', 'G165E', 'R970C', 'P153H', 'D808N', 'G1743R', 'V118D', 'TRA-NKX2-1 Fusion', 'P106L', 'S562L', 'M504V', 'L387M', 'D600_L601insFREYEYD', 'M1008I', 'C630Y', 'Y801H', 'E719G', 'E719K', 'R283Q', 'K509I', 'I391M', 'Q227L', 'A750_E758delinsP', 'T599_V600insV', 'E746G', 'D837N', 'P179L', 'D162G', 'E746Q', 'E746V', 'P179R', 'R866C', 'RET-CCDC6 Fusion', 'K59del', 'V561_I562insER', 'E1935G', 'G423V', 'K11R', 'L559R', 'G423R', 'T790M', 'A1685S', 'V1804D', 'M224R', '560_561insER', 'C384R', 'E69K', 'V321M', 'H68Y', 'K666M', 'K666N', 'G35V', 'R108H', 'S215C', 'D814V', 'R108K', 'S215G', 'F876L', 'G35A', 'C44Y', 'N375S', 'E1735K', 'K666R', 'Y578C', 'K666T', 'M1328I', 'D1739G', 'R2505Q', 'A2643G', 'G75R', 'D1739V', 'D419del', 'P133T', 'IGH-MYC Fusion', 'L584F', 'Y155C', 'D1739Y', 'R2318Q', 'L424V', 'P278R', 'T77M', 'N510K', 'E144K', 'T77P', 'I28T', 'L424I', 'L158V', 'L1678P', 'P38L', 'Q79R', 'G271E', 'L158Q', 'L158P', 'R2602T', 'R698W', 'Y849S', 'S904F', 'C135Y', 'C135S', 'C135R', 'Y849C', 'D1349H', 'V1713A', 'S1486C', 'T529I', 'AGK-BRAF Fusion', 'T529N', 'T529M', 'I90T', 'S1036P', 'F71I', 'S371C', 'G505S', 'F311L', 'S752_I759del', 'K700R', 'K700E', 'T17A', 'F1200I', 'F28L', 'S33A', 'F119S', 'V2908G', 'Y1003*', 'N870S', 'Y1295A', 'L78T', 'S33Y', 'S102F', 'L388M', 'ETV6-FLT3 Fusion', 'G328E', 'G328V', 'A2717S', 'T160I', 'Overexpression', 'H2074N', 'N561D', 'G1656D', 'S427G', 'Y3098H', 'Y1003C', 'P287A', 'ESRP1-RAF1 Fusion', 'Y1003F', 'N841I', 'E1021K', 'H773insLGNP', 'P287S', 'T605M', 'P287T', 'C628Y', 'TRKAIII Splice Variant', 'Y98N', 'L2427R', 'R882L', 'L1584R', 'K2472T', 'R882C', 'R177Pfs*126', 'L861P', 'L861Q', 'L861R', 'G697C', '422_605trunc', 'S217T', 'R251Q', 'H412Y', 'T1354M', 'F384L', 'C61G', 'M1411T', 'I1018W', 'K513R', 'F384Y', 'F359C', 'D121G', 'D520N', 'I1018F', 'F384V', 'G60E', 'Q12Y', 'D493A', 'R373Q', 'T1151dup', 'N387K', 'Y34C', 'M1_E165DEL', 'L43V', 'R373H', 'A161T', 'A161S', 'Q331R', 'D631G', 'S217C', 'Q331H', 'D544H', 'I1680N', 'P387S', 'S24F', 'Y1230H', 'R1589P', 'DNA binding domain missense mutations', 'Y1230C', 'R482Q', 'M1400V', 'R167Q', 'N53A', 'K2950N', 'Q58_Q59insL', 'P1806A', 'E1384K', 'R1589H', 'KIF5B-PDGFRA Fusion', 'Y1278S', 'NPM-ALK Fusion', 'S1301R', 'L202F', 'A889P', 'G128V', 'E475K', 'A122*', 'A1519T', 'R217C', 'P2412T', 'G1788D', 'H396R', 'E275K', 'Q1785H', 'G1035S', 'M784V', 'G1788V', 'N334K', 'M1250T', 'R537P', 'V852I', 'H65Y', 'G17E', 'BIN2-PDGFRB Fusion', 'P47S', 'TMPRSS2-ETV5 Fusion', 'D816V', 'P47A', 'K1702E', 'PVT1-MYC Fusion', 'R132G', 'R132C', 'K50E', 'S1039F', 'T599R', 'S153R', 'L234fs', 'R132H', 'FIG-ROS1 Fusion', 'E501G', 'R132Q', 'G1738E', 'S1841N', 'N126D', 'I35S', 'E866K', 'D587H', 'T417I', 'V677I', 'R15K', 'R15S', 'G1125A', 'G370C', 'V344G', 'Y537C', 'V344A', 'P25L', 'Y537S', 'E75G', 'R121Q', 'L30F', 'L19F', 'N71S', 'V2969M', 'E1978*', 'P780L', 'R755S', 'G129R', 'G776delinsLC', 'S1651F', 'C334S', 'N71K', 'N71I', 'E868G', 'V769E', 'H870R', 'R987W', 'V769M', 'Q579R', 'PCM1-JAK2 Fusion', 'S768_D770dup', 'V1808A', 'R711*', 'P284L', 'A1374V', 'I867S', 'A1234T', 'Y42C', 'Q2416*', 'C248T', 'X1009_splice', 'V1809F', 'D842Y', 'V1809A', 'I122L', 'D842V', 'F161L', 'R1097H', 'D842I', 'Y599F', 'I122S', 'E598_Y599insDVDFREYE', 'A41T', 'L1951R', 'L1407P', 'Q58_E62del', 'V774A', 'C706F', 'Y640F', 'P124L', 'V774M', 'F134Y', 'Exon 1 mutations', 'K83E', 'V191I', 'R2304C', 'C134W', 'G469del', 'P219S', 'R715G', 'R321Q', 'AKAP9-BRAF Fusion', 'Y35C', 'K111E', 'Y35H', 'S464L', 'K111N', 'V384D', 'V506A', 'R369Q', 'R369W', 'E258V', 'T599dup', 'S1651P', 'N810Y', 'A648T', 'Q252H', 'S65L', 'F1695L', 'S65N', 'S784F', 'C569Y', 'M552_W557del', 'CEP85L-ROS1 Fusion', 'F1592S', 'G305W', 'S65A', 'G305R', 'G250E', 'R310H', 'S276L', 'A111P', 'S65W', 'P326L', 'Y1294A', 'A159T', 'K120E', 'D84Y', 'K409Q', 'K120N', 'K120M', 'V1671I', 'D84N', 'D84H', 'EWSR1-WT1 Fusion', 'E580*', 'D384N', 'D84G', 'E622Q', 'A347T', 'N319D', 'G774V', 'R276W', 'P142H', 'A883T', 'L1240V', '2010_2471trunc', 'S459del', 'A636P', 'N319T', 'R1446H', 'Truncating Mutations Upstream of Transactivation Domain', 'R1446C', 'F347L', 'F615S', 'R1189*', 'P40T', 'L345Q', 'E884K', 'R2430M', 'F568fs', 'KDR-PDGFRA Fusion', 'L210R', 'N826Y', 'E731K', 'P151S', 'C696Y', 'P151H', 'G163D', 'BCAN-NTRK1 Fusion', 'P151A', 'A197T', 'IGH-NKX2 Fusion', 'V592A', 'K550_V555delinsI', 'L747_P753del', 'K806A', 'Q22E', 'Q1396R', 'Q22K', 'D770_N771insNPG', 'A232V', 'S80R', 'V559_V560del', 'F400I', 'L321A', 'T244_I245insCPT', 'T37A', 'D277H', 'H68R', 'P1812R', 'P1812S', 'BCR-ABL1 Fusion', 'N549T', 'N239S', 'E76K', 'T37R', 'E622D', 'D252G', 'E76A', 'K128Q', 'Exon 11 mutations', 'R905G', 'G42R', 'V1378I', 'I448V', 'R905Q', 'R905W', 'Y253H', 'Y253F', 'R1076C', 'V369G', 'M1255I', 'Exon 19 deletion', 'R166Q', 'K28M', 'G60D', 'I21V', 'N659S', 'R552G', 'S217A', 'L747V', 'N217I', 'G60R', 'L747P', 'S170R', 'ERLIN2?FGFR1 Fusion', 'S703I', 'S760A', 'G129E', 'G129A', 'CPEB1-NTRK3 Fusion', 'E685V', 'R23A', 'S170N', 'D2723H', 'T785A', 'T286A', 'E41A', 'S1424C', 'M541L', 'T286I', 'Y598C', 'SND1-BRAF Fusion', 'T401I', 'PAX5-JAK2 Fusion', 'D32H', 'R465H', 'T1025S', 'D32N', 'D32A', 'R133*', 'R812A', 'D32Y', 'H650Q', 'YAP1-FAM118B Fusion', 'C157Y', 'Y553_Q556del', 'V289F', 'R18H', 'S3660L', 'H773_V774insH', 'G264S', 'D1270G', 'W345*', 'R133H', 'M918V', 'S45del', 'G796S', 'W183A', 'T19N', 'R583A', 'W24C', 'I836del', 'P34R', 'M351T', 'C443Y', 'S142I', 'Y375C', 'E78K', 'D92A', 'D92G', 'D92E', 'T1720A', 'A272V', 'D92H', 'D92N', 'G251C', 'S31R', 'A205T', 'R625L', 'M535I', 'R625H', 'R2520Q', 'R625D', 'R1625C', 'R625G', 'E525K', 'R625C', 'Q144R', 'G93W', 'F594L', 'Q1756fs', 'I653T', 'G52R', 'V1833M', 'G199R', 'V1833E', 'E1644G', 'N1647K', 'FGFR2-TACC3 Fusion', 'D323H', 'S425C', 'G31R', 'H643D', 'TPM3-NTRK1 Fusion', 'R1204W', 'R689S', 'R689Q', 'G311D', 'R1204G', 'Q72L', 'M90I', 'L704N', 'E563K', 'R337L', 'L384M', 'A634V', 'R337H', 'D194Y', 'K45Q', 'S256W', 'K45T', 'R337C', 'A634D', 'T654I', 'K45N', 'T654M', 'H410R', 'R337P', 'S256F', 'K830R', 'V391I', 'G325A', 'E317K', 'R552S', 'V1605del', 'E69G', 'D254N', 'R320Q', 'F1704S', 'N1178H', 'Q233*', 'C229R', 'G735S', 'A211D', 'D1071N', 'Y16C', 'R201C', 'K558delinsNP', 'L692F', 'S241L', 'L1196M', 'S241F', 'H297N', 'Y298A', 'P250L', 'D646Y', 'S241Y', 'S46N', 'L1196Q', 'S241T', 'R1231Q', 'R368C', 'Q689R', 'S326R', 'Y105C', 'M35R', 'C41Y', 'S335C', 'G35R', 'RUNX1-RUNX1T1 Fusion', 'Y551F', 'V1306I', 'Q984K', 'L248V', 'S297F', 'L607I', 'E355A', 'E17K', 'KIAA1549-BRAF Fusion', 'E322K', 'L507P', 'H570R', 'V14I', 'E709V', 'L1198F', 'E709Q', 'G12V', 'F346V', 'P1859R', 'G12R', 'G12S', 'E709G', 'L1198P', 'E709A', 'G12F', 'G12D', 'G12C', 'S186Y', 'G12A', 'L344P', 'L344R', 'C611Y', 'T352M', 'C554W', 'D130A', 'E746_T751delinsVA', 'N276S', 'L983F', 'A40E', 'D422N', 'E31K', 'R130A', 'Amplification', 'R130G', 'V1736G', 'K601N', 'R130K', 'G508S', 'R130L', 'R802*', 'X963_splice', 'E804G', 'S376F', 'V1688del', 'G207E', 'EWSR1-ETV4 Fusion', 'R479Q', 'R1835P', 'R154W', 'D1280V', 'M269R', 'Y234C', 'R479H', 'E40K', 'S453fs*', 'R479L', 'Y234H', 'E79K', 'T41A', 'Q201H', 'V430M', 'G70D', 'Q58L', 'V555_L576del', 'Q2858R', 'N238S', 'F367S', 'MPRIP-NTRK1 Fusion', 'R2842H', 'E77K', 'D1739E', 'S729C', 'P1749R', 'S858R', 'I1307K', 'C1156F', 'N1236K', 'R130*', 'S1002R', 'C121S', 'H1966Y', 'G591V', 'L32P', 'N535K', 'K320E', 'G637W', 'C1156Y', 'RUNX1-EVI1 Fusion', 'A113_splice', 'H214N', 'R640G', 'S1140G', 'W557G', 'K373E', 'P306H', 'H214R', 'I2675V', 'H214Q', 'G245D', 'G245A', 'TFG-ROS1 Fusion', 'I195T', 'Q477E', 'G245S', 'N372H', 'E1346K', 'R631C', 'L117P', 'I251S', 'E40N', 'E40L', 'C2060G', 'T771R', 'E40W', '963_D1010splice', 'K291E', 'E40Q', 'K342N', 'P491S', '1_2009trunc', 'C136R', 'I219V', 'G216R', 'R1040L', 'R1095H', 'N857S', 'I1616N', 'I1616T', 'T992I', 'N653H', 'Q59E', 'C228T', 'G1809R', 'L46R', 'D257N', 'D300H', 'R183P', 'K117R', 'D300N', 'I26N', 'L46F', 'E586K', 'T241P', 'M160V', 'G1809K', 'E1051K', 'R183G', 'S45P', 'S1297del', 'P253R', 'S1653F', 'S45Y', 'S10N', 'S45A', 'S45F', 'L702H', 'E606G', 'S240R', 'S1653P', 'G1123S', 'E1794D', 'M774_A775insAYVM', 'L601_K602insREYEYDL', 'D331G', 'G1123D', 'E579K', 'V794M', 'F212Y', 'H114Y', 'Q145H', 'T338I', 'E221Q', 'I68K', 'T1685I', 'D86N', 'K1062M', 'G469V', 'D835N', 'Y297A', '256_286trunc', 'G13R', 'Q1503P', 'G13V', 'A717G', 'S2215T', 'G469A', 'S2215Y', 'L272F', 'F341C', 'G13E', 'G13D', 'E330K', 'K558N', 'V1838E', 'I1807S', 'K128N', 'P42T', 'D820G', 'K507Q', 'G161V', 'M133T', 'Y375_K455del', 'E452K', 'D423N', 'K507A', 'F1061W', 'I2285V', 'R1276P', 'R1276Q', 'C634W', 'C634S', 'C634R', 'A532H', 'F1174L', 'F1174I', 'E483*', 'W802*', 'H1421Y', 'V773A', 'G881D', 'I767M', 'S1670A', 'C528S', 'Y803N', 'R378A', 'Y412F', 'F1524V', 'E14*', 'M1628V', 'S1172L', 'E632_L633del', 'S1715R', 'D153V', 'V559G', 'C64G', 'P1771R', 'D806H', 'F958V', 'G810S', 'X434_splice', 'R38H', 'A1789T', 'L493V', 'A34D', 'L493P', 'R1896M', 'A750P', 'G116S', 'R342W', 'N848K', 'I15T', 'L230P', 'W1502A', 'K935I', 'V555M', 'D108H', 'D108N', 'ACPP-PIK3CB Fusion', 'C39S', 'D842_H845del', 'W117C', 'C39Y', 'V1653M', 'R5Q', 'Y113*', 'G39E', 'R481G', 'G2430A', 'Fusions', 'D140G', 'ROS1-CD74 Fusion', 'T670I', 'S2670L', 'P33S', 'C630R', 'A1131T', 'A1020V', 'G382D', 'A1752P', 'EGFRvII', 'D835A', 'ETV6-PDGFRB Fusion', 'S501_A502dup', 'T1087I', 'D1352Y', 'P1139S', 'EGFRvIV', 'K292I', 'ZNF198-FGFR1 Fusion', 'P1771L', 'D845A', 'V777L', 'V777M', 'V777A', 'M1663K', 'G1202R', 'G623R', 'R267Q', 'L57del', 'F133L', 'G430C', 'Y806C', 'K648N', 'F1088Lfs*5', 'R561C', 'A151T', 'RANBP2-ALK Fusion', 'W1038C', 'D162H', 'I89T', 'G266R', 'G284R', 'A2770T', 'Y599_D600insPAPQIMSTSTLISENMNIA', 'M237K', 'I89N', 'G266E', 'D67N', 'T131A', 'M1K', 'S362L', 'R1758G', 'G701S', 'W80A', 'CAD-ALK Fusion', 'I642V', 'M1R', 'M1T', 'D67Y', 'M1V', 'S783P', 'G253C', 'GOLGA4-PDGFRB Fusion', 'I843del', 'I47F', 'T485K', 'R732Q', 'K62R', 'E627D', 'F1734S', 'A1708V', 'Truncating Mutations in the PEST Domain', 'F31I', 'D3170G', 'M1783T', 'R678Q', 'Q120E', 'YAP1-MAMLD1 Fusion', 'T875N', 'M1652T', 'E501K', 'A134D', 'P305L', 'M1652K', 'M1783L', 'M1775E', 'M1783I', 'R1515H', 'P449T', 'G244D', 'N542_E543del', 'DNA binding domain deletions', 'F102C', 'G244R', 'G244S', 'R725C', 'E565G', 'H1620R', 'A290T', 'M1775K', 'X475_splice', 'N82K', 'H845Y', 'E921K', 'G724S', 'F893L', 'K526E', 'G1201E', 'T1203K', 'L830R', 'R331P', 'K101M', 'S476I', 'A8S', 'PRKG2-PDGFRB Fusion', 'S2G', 'L747S', 'W535L', 'S250P', 'L747F', 'R506_K507insVLR', 'H538Q', 'P214L', 'A1708E', 'S59R', 'G1567D', 'A500T', 'Y646N', 'G2748D', 'H115N', 'M1775V', 'R182W', 'L749P', 'L1204F', 'H115R', 'L67P', 'D1692N', 'N1044K', 'EWSR1-FLI1 Fusion', 'SSBP2-JAK2 Fusion', 'E554_V559del', 'S2483N', 'S33C', 'M887I', 'SPAG9-JAK2 Fusion', 'K601E', 'M2327I', 'Y553N', 'L28P', 'EGFRvV', 'T389K', 'K601Q', 'S33F', 'Y3092C', 'A767_V769del', 'M37K', 'P114L', 'P114S', 'V379I', 'L996F', 'BCR-JAK2 Fusion', 'S869L', 'P848L', 'K499E', 'L481F', 'L1460P', 'H193P', 'A389T', 'H193N', 'E255K', 'R213Q', 'K38N', 'E2663V', 'V414A', 'E279K', 'STRN-ALK Fusion', 'E1099K', 'H1402Y', 'G1079D', 'E453A', 'D821N', 'C176F', 'N1125I', 'R879C', 'R1464*', 'L703P', 'T488_P492del', 'P577_D579del', 'E88K', 'N1228D', 'M713I', 'CD74-ROS1 Fusion', 'N2113S', 'R11K', 'EWSR1-DDIT3 Fusion', 'SEC16A1-NOTCH1 Fusion', 'Y236S', 'H36P', 'EWSR1-ETV1 Fusion', 'L550P', 'L399V', 'Y236D', 'Y236C', 'S1512I', 'Y98H', 'FAM131B-BRAF Fusion', 'F1245C', 'R1751P', 'R1751Q', 'I31M', 'K1026E', 'H1904R', 'V242F', 'I563_L576del', 'W509R', 'W742C', 'F1245V', 'DNMT3B7', 'C1483F', 'V1714G', 'E836K', 'C1483R', 'L790F', 'C1483W', 'S46I', 'C1483Y', 'E996K', 'C582F', 'D770_N771insVDSVDNP', 'ATG7-RAF1 Fusion', 'C1385', 'P480L', 'L410R', 'N564K', 'I157T', 'Y238A', 'L1267S', 'G1232D', 'N564D', 'A11_G12insGA', 'V654A', 'Y1853*', 'Exon 20 insertion', 'A2425T', 'D24Y', 'R724H', 'NSD1-NUP98 Fusion', 'V220F', 'R156C', 'Y1853C', 'T1365M', 'H773Y', 'R156H', 'I463S', 'E102_I103del', 'L469V', 'R139G', 'K310R', 'H773L', 'K603Q', 'V3079I', 'L108P', 'FGFR2-KIAA1967 Fusion', 'D1399Y', 'S1463F', 'D761Y', 'V1075F', 'D846Y', 'V211D', 'P2415del', 'I744_K745delinsKIPVAI', 'L747_T751delinsP', 'G87R', 'E116K', 'D594A', 'C18Y', 'D357Y', 'L64P', 'ATF7IP-JAK2 Fusion', 'S387N', 'D1420Y', 'L915M', 'S72R', '533_534del', 'A146T', 'A146V', 'R181C', 'P691S', 'N2436I', 'E664K', 'V560G', 'R181L', 'R315*', 'R181H', 'D92V', 'R1192P', 'R611Q', 'R611W', 'H123D', 'L1780P', 'D1067Y', 'D1067V', 'A148T', 'IGH-BCL2 Fusion', 'K125L', 'L188Q', 'V536M', 'Y842C', 'T319del', 'V536E', 'D1067A', 'H845_N848delinsP', 'H2428Q', 'FGFR2-FAM76A Fusion', 'Y652H', 'CEP85L-PDGFRB Fusion', 'L142P', 'S459F', 'G101W', 'D631A', 'S387Y', 'E626K', 'T341P', 'L726F', 'L726I', 'L2431P', 'E255V', 'R243A', 'E1705A', 'S891A', 'S492R', 'E1705K', 'C77F', 'K39N', 'A4419S', 'R1343L', 'L844R', 'L1600P', 'TEL-RUNX1 Fusion', 'V714M', 'H1106D', 'R389*', 'L833V', 'M2676T', 'A530T', 'A530V', 'A246P', 'G776_V777insYVMA', \"3' Deletion\", 'E768D', 'V579A', 'K590R', 'P395A', 'L2721H', 'S310F', 'Q56_V60del', 'I1349T', 'BRD4-NUT Fusion', 'R115L', 'S249C', 'D119N', 'Y139D', 'R201H', 'V343E', 'A627T', 'F12L', 'N45S', 'V343L', 'W383R', 'P838L', 'V851A', 'A36P', 'E1210K', 'I2500M', 'Y599_D600insGLYVDFREYEY', 'S846I', 'N219D', 'I2500F', 'R683K', 'G114R', 'Y472C', 'Exon 20 insertions/deletions', 'Y472H', 'G478C', 'R978*', 'W531C', 'T417_D419delinsRG', 'V557I', 'D1203N', 'E321K', 'S1290A', 'E321G', 'G751R', 'R487Q', 'R487W', 'H355M', 'SDC4-ROS1 Fusion', 'V274F', 'K753E', '534_536del', 'K753A', 'MYC-nick', 'Y371H', 'K753M', 'F1662S', 'P525L', 'Y371S', 'C456_R481del', 'A1022E', 'AR-V7', 'T798M', 'R2336H', 'T798I', 'G380R', 'K341A', 'M552_K558del', 'A1669S', 'L861F', 'R2784W', 'L1596H', 'V755I', 'W557_V559delinsC', 'E709K', 'W349C', 'KIF5B-RET Fusion', 'Y647C', 'V1398D', 'Y1248F', 'Q429*', 'P551_V555del', 'I491M', 'V559del', 'R177Q', 'S1473P', 'D2512Y', 'G936R', 'K659N', 'L597V', 'D2512G', 'L221R', 'Y237A', 'K659E', 'F57C', 'RANBP1-ALK Fusion', 'A149P', 'E137K', 'K442Nfs*', 'F57L', 'E79Q', 'R669G', 'F57V', 'E168D', 'E554_K558del', 'R669C', 'D65N', 'L145R', 'C238S', 'I1170S', 'I1170N', 'V1578del', 'T340A', 'H233N', 'C238F', 'L115R', 'F590G', 'T1691K', 'S222D', 'K459_S460delinsN', 'Delta-NTRK1 Fusion', 'E157G', 'I130M', 'F79S', 'D887N', 'L1947R', 'Exon 19 insertion', 'L118R', 'L118P', 'Y353L', 'R1200W', 'V597A', 'D2870A', 'Q472H', 'K181M', 'A767_V769dup', 'N588D', 'IGH-FGFR3 Fusion', 'S478P', 'V544_L545insAVLVLLVIVIISLI', 'S646F', 'R1275L', 'W1610G', 'H94Y', 'I1250T', 'G503V', 'N116H', 'A209T', 'S4F', 'T574_R588delinsL', 'H83Y', 'E746_A750delinsQ', 'S259A', 'H83N', 'S4P', 'K539L', 'C1767S', 'S252W', 'S645C', 'E2419K', 'D1818G', 'V659E', 'L622H', 'N1730S', 'V1741G', 'L49H', 'K428A', 'T244R', 'T3349A', 'E1799K', 'Q337*', 'D390Y', 'K558_V559del', 'N540S', 'L1854P', 'R897Q', 'L348F', 'H1746Q', 'G67W', 'V1676D', 'R206H', 'G67R', 'G67S', 'H396P', 'F351L', 'D927G', 'P449_L455del', 'L348S', 'H1746N', 'A19V', 'L785F', 'Q2384K', 'E326L', 'L251P', 'W1837R', 'W1291R', 'A57V', 'A677G', 'N81Y', 'V191D', 'L1301R', 'P551_E554del', 'S614R', 'W1837C', 'DNA binding domain insertions', 'R683S', 'V32G', 'R268A', 'G466V', 'G466R', 'L485_Q494del', 'G778_P780dup', 'G466E', 'R342P', 'R342Q', 'G466A', 'R922*', 'H191D', 'MSN-ROS1 Fusion', 'D560Y', 'A75P', 'D770_N771insD', 'L910P', 'V804L', 'Q1500P', 'K78I', 'E734Q', 'Q2223K', 'N550H', 'M53I', 'G2032R', 'L1904V', 'R420H', 'C396R', 'R420Q', 'R415G', 'Q61R', 'L1152R', 'FGFR1OP1-FGFR1 Fusion', 'L1152P', 'V742A', 'Q227R', 'T123A', 'G857E', 'G857A', 'N48K', 'K656E', 'Y791F', 'P539R', 'E81K', 'G602R', 'L225LI', 'F81V', 'L792R', 'R1753T', 'S243C', 'V1736A', 'R776C', 'D245V', 'T910M', 'R174*', 'R82P', 'H694R', 'E466K', 'P123M', 'H398Y', 'D609E', 'D1709E', 'D107Y', 'H123Y', 'D1709A', 'A1830T', 'T80A', 'R64P', 'L370fs', 'T2681R', 'NIN-PDGFRB Fusion', 'P428L', 'WDR48-PDGFRB Fusion', 'K125E', 'S243N', 'C242S', 'V126D', 'E1282V', 'R659P', 'S1088F', 'C242F', 'R659L', 'T196A', 'MIR143-NOTCH1 Fusion', 'R158L', 'Exon 20 insertions', 'T582P', 'R158H', 'V277D', 'G31A', 'T283A', 'R158C', 'M232T', 'G1286R', 'FGFR3 - BAIAP2L1 Fusion', 'R659*', 'I255F', 'L1657P', 'T58I', 'I538V', 'Y646S', 'C24Y', 'TMPRSS2-ETV4 Fusion', 'L536H', 'Y646H', 'R2842C', 'L536R', 'L536Q', 'L536P', 'Y646C', 'V217D', 'Y646F', 'G85R', 'Q546K', 'H662R', 'H662Q', 'E518K', 'H123Q', 'V658F', 'Q546E', 'V658A', 'Q79K', 'Q276*', 'Q546P', 'Q546R', 'Q79E', 'F691L', 'E746_S752delinsI', 'E746_S752delinsA', 'L485_P490del', 'R167W', 'T205A', 'F21A', 'C277R', 'L838V', 'C277Q', 'R1190W', 'C277W', 'E633K', 'F158C', 'M587V', 'P1502L', 'P48T', 'E875G', 'A126G', 'D594N', 'A126D', 'W731L', 'D594V', 'A126S', 'D594Y', 'K1299E', 'TP53BP1-PDGFRB Fusion', 'A126V', 'A504_Y505ins', 'V534E', 'D387V', 'A617T', 'I638F', 'Exon 19 deletion/insertion', 'G356A', 'I1171T', 'F129L', 'L783F', 'I1171N', 'A598T', 'R505L', 'V804M', 'R292A', 'C609Y', 'H1047Y', 'V804G', 'H1047R', 'L390F', 'D594G', 'E218*', 'H1047L', 'V2006L', 'L826P', 'ZC3H7B-BCOR Fusion', 'V2006I', 'G465E', 'K57E', 'D1546N', 'K57T', 'T576del', 'R258H', 'S653C', 'L866M', 'P1856S', 'P1856T', 'R258C', 'EWSR1-FEV Fusion', 'CASP8L', 'D594E', 'R88Q', 'K467T', 'Y280H', 'W406A', 'C44F', 'K525E', 'E554_I571del', 'T263P', 'KANK1-PDGFRB Fusion', 'G106_R108del', 'Hypermethylation', 'W131A', 'W131G', 'L485F', 'L188V', 'S56I', 'I18V', 'EBF1-PDGFRB Fusion', 'S1613C', 'R498L', 'S1613G', 'P48R', 'N382H', 'G20E', 'R117G', 'P48L', 'E50K', 'L747_E749del', 'STRN-PDGFRA Fusion', 'C1787S', 'D401N', 'FGFR2-CCDC6 Fusion', 'T1481fs', 'R976H', 'L82P', 'L412F', 'CIC-DUX4 Fusion', 'D106A', 'R100*', 'p61BRAF', 'E29V', 'TMPRSS2-ERG Fusion', 'C360R', 'TGFBR1*6A', 'S119N', 'I326V', 'H1918Y', 'R100T', 'G1194D', 'V1576E', 'V600D_K601insFGLAT', 'R100A', 'V559D', 'L2230V', 'V559C', 'D839G', 'V559A', 'S330A', 'K550_K558del', 'G665A', 'P262H', 'G123R', 'G123S', 'L358R', 'E490K', 'P261L', 'F53C', 'E311_K312del', 'C382R', 'L448P', 'D61N', 'Y373C', 'X1007_splice', 'V569_L576del', 'L747_A750delinsP', 'D171N', 'Y1035C', 'P463L', 'K642E', 'L747_A750del', 'R421*', 'R592H', 'TPR-NTRK1 Fusion', 'F328V', 'Y510C', 'Q157P', 'V1070E', 'L1273F', 'BCR-PDGFRA Fusion', 'L1593P', 'V45L', 'G44S', 'R418G', 'V356R', '550_592del', 'K289E', 'R175L', 'R836C', 'A864T', 'R175H', 'G909R', 'R175C', 'E872K', 'E135K', 'E23fs', 'E142D', 'HMGA2-RAD51B Fusion', 'S384F', 'P316L', 'R634W', 'N1878K', 'D595V', 'R647A', 'P336S', 'K1690N', 'K550_W557del', 'M1689R', 'S279Y', 'T779fs', 'R228K', 'N463S', 'E1356G', 'T417_D419delinsI', 'A614D', 'W279*', 'T674I', 'Q1756C', 'F317L', 'W24S', 'K376N', 'F248S', 'R658Q', 'G248V', 'E545Q', 'LMNA-NTRK1 Fusion', 'EGFR-PURB Fusion', 'S584L', 'R487*', 'E518A', 'N132K', 'E545G', 'K97M', 'E545A', 'R3052Q', 'L747_T751del', 'E545K', 'G322S', 'W368H', 'V648G', 'T733I', 'D74N', 'T1852S', 'V648I', 'E758G', 'R282W', 'D74Y', 'W257C', 'L52R', 'W257G', 'R3052W', 'Y553_K558del', 'M18K', 'A723D', 'K291Q', 'Q50P', 'P34L', 'Q395*', 'R601Q', 'CUX1-FGFR1 Fusion', 'A1200V', 'M664I', 'M18T', 'L147F', 'Q538P', 'D29H', 'Q50*', 'PTPRZ1-MET Fusion', 'H168R', 'N2875K', 'D29Y', 'H231R', 'H168N', 'L63P', 'L63V', 'D83V', 'S1164I', 'I290A', 'E552K', 'N546K', 'S1986Y', 'FLT3 internal tandem duplications', 'I347M', 'E40T', 'S1986F', 'V769_D770insGVV', 'S267_D273dup', 'F468C', 'V84L', 'D1778Y', 'R93W', 'D3095E', 'R93Q', 'A77T', 'P96Q', 'A77P', 'A77S', 'D1778H', 'Q324L', 'N198_F199delinsI', 'R200W', 'D1778N', 'R248W', 'R248Q', 'EZR-ROS1 Fusion', 'P81T', 'T507K', 'H773dup', 'K575M', 'R248C', 'R159G', 'R248L', 'R248K', 'D820A', 'L858Q', 'L858R', 'T50I', 'D557H', 'I32del', 'E219K', 'N345I', 'S463P', 'V561D', 'V561A', 'A60V', 'D537Y', 'E1682V', 'G464A', 'L23F', 'E380Q', 'K50L', 'T1720I', 'G464V', 'G464R', 'C136Y', 'M136R', 'D537E', 'E1682K', 'I111P', 'I111R', 'K2729N', 'R1563S', 'N1068fs*4', 'R161G', 'Q556_K558del', 'T1343I', 'I111A', 'I99M', 'E60L', 'S566_E571delinsR', 'R470C', 'BCR-FGFR1 Fusion', 'I111N', 'K288Q', 'G106D', 'R48W', 'R172S', 'K765R', 'R24C', 'TRIM24-BRAF Fusion', 'R172K', 'R172M', 'G106V', 'R453C', 'W237_Y242del', 'R24P', 'V248D', 'R172G', 'R1060H', 'R110P', 'D473G', 'Y63C', 'A859_L883delinsV', 'V60E', 'R80L', 'R80C', 'V60M', 'E459K', 'G23D', 'N296I', 'T117M', '596_619splice', 'R80P', 'R544W', 'V319D', 'R110L', 'D287H', 'R544S', 'S1841A', 'E439del', 'GIT2-PDGFRB Fusion', 'T73I', 'S1498N', 'R957Q', 'A39P', 'D101Y', 'D402Y', 'S1841R', 'T574insTQLPYD', 'CHTOP-NTRK1 Fusion', 'G1706A', 'P70R', 'L576P', 'G1706E', 'V11A', 'Y406H', 'F808L', 'F1761S', 'N655K', 'T878S', 'F1761I', 'K975E', 'Y27S', 'V1180L', 'L128F', 'T878A', 'E542Q', 'G719S', 'K375A', 'E542V', 'E612_F613insGYVDFREYEYDLKWEFRPRENLEF', 'H878Y', 'R961W', 'G719A', 'R183Q', 'G719C', 'G719D', 'E542G', 'T241M', 'N826S', 'E542K', 'G376R', 'N1387A', 'K413E', 'V271L', 'Q22R', 'V271A', 'E839K', 'V600R', 'T47D', 'V600K', 'V600M', 'V2098I', 'V600E', 'V600D', 'V600G', 'S921R', 'R143Q', 'Y591D', 'V750E', 'K641N', 'K641R', 'Y513A', 'C105F', 'I162M', 'R873Q', 'FGFR1-TACC1 Fusion', 'R79P', 'L283_D294del', 'A883F', 'S310Y', 'E285K', 'L209F', 'K117N', 'L146R', 'Q249E', 'K420A', 'LIMA1-ROS1 Fusion', 'E285V', 'Y68H', 'C275S', 'S36Y', 'V1565I', 'R680*', 'S1303N', 'F154L', 'R844H', 'Y68D', 'EGFR-RAD51 Fusion', 'G334R', 'Q1554H', 'D641N', 'D1853N', 'F958S', 'I834V', 'D641G', 'A120S', 'P417A', 'E143K', 'Q809R', 'W719*', 'EWSR1-YY1 Fusion', 'D60N', 'EGFR-KDD', 'Y1414C', 'X1008_splice', 'R671Q', 'K128T', 'I204T', 'I42V', 'E172K', 'K1452N', 'S123T', 'Q816*', 'R290H', 'G34V', 'BCOR-RARA Fusion', 'C456_N468del', 'R290G', 'D186A', 'F2108L', 'V560D', 'V560E', 'R267P', 'S462Y', 'L1224F', 'FGFR2?PPHLN1 Fusion', 'G434R', 'L1574P', 'L755S', 'L755P', 'E207K', 'P1675L', 'C620R', 'Y384A', 'K483E', 'V842I', 'D2312V', 'K483M', 'R1699W', 'R134Q', 'T730S', 'M117I', 'R361C', 'H78Q', 'H1805P', 'Q347_A348del', 'P577_W582delinsPYD', 'F877L', 'H105R', 'K1434I', 'Y555C', 'M117V', 'C71Y', 'A391E', 'A1843P', 'BCOR-CCNB3 Fusion', 'V422del', 'D816G', 'P1776S', 'D816E', 'A633T', 'W742L', 'A633V', 'MKRN1-BRAF Fusion', 'E717K', 'P2417A', 'N1026S', 'V487_P492delinsA', 'S768I', 'S206C', 'L165P', 'ATF7IP-PDGFRB Fusion', 'E365K', 'Y418_D419del', 'T1977R', 'A1099T', 'M1293A', 'E1214K', 'G1269S', 'L617F', 'Copy Number Loss', 'L617M', 'G1269A', 'A459V', 'Promoter Mutations', 'S151A', 'I408V', 'P95L', 'C618R', 'R287A', 'P95H', 'Y1703H', 'H875Y', 'C311R', 'L274P', 'P173S', 'R2888C', 'R201Q', 'R505C', 'P4309A', 'E267G', 'V705M', 'R249W', 'V35M', 'R249S', 'V705E', 'H1382Y', 'F354L', 'L597R', 'L597S', 'L597Q', 'L1705P', 'ARv567es', 'V194M', 'D572A', 'R249M', 'SPTBN1-PDGFRB Fusion', 'D1733G', 'I103N', 'E70K', 'CUL1-BRAF Fusion', 'R796G', 'V270A', 'Y901C', 'E49K', 'N233Y', 'G785S', 'R441P', 'G863D', 'T80R', 'E812K', 'W563L', 'W398V', 'M244V', 'M391R', 'Exon 9 mutations', 'T167A', 'R776H', 'G863S', 'G596C', 'A750_E758del', 'T80K', 'S1497A', 'Y1235D', 'S1025C', 'S765P', 'M253K', 'N676S', 'Q1064R', 'V354E', 'N676K', 'G914R', 'C24R', 'N78S', 'G31V', 'N676D', 'T24A', 'A23E', 'S37Y', 'L455M', 'A598V', 'R834Q', 'R173P', 'T783A', 'FUS-ERG Fusion', 'C712R', 'K218T', 'R173H', 'E946*', 'R49L', 'R173C', 'R49C', 'C324Y', 'P798L', 'A2034V', 'D61Y', 'A121P', 'A121V', 'F53S', 'G186R', 'N987I', 'V1092I', 'H206D', 'KIF5B-ALK Fusion', 'A121E', 'D737N', 'F53L', 'V197E', 'Wildtype', 'S432L', 'C250T', 'I122V', 'F522C', 'D717V', 'E161del', 'K129E', 'A919V', 'P2273S', 'R47Q', 'P551_W557delinsL', 'M299I', 'E1660G', 'L181P', 'V143A', 'I562M', 'R1598P', 'N1100Y', 'T1685A', 'G375C', 'S37C', 'L485_P490delinsY', 'A59G', 'EZR-ERBB4 Fusion', 'L485_P490delinsF', 'P596L', 'G375P', 'H179R', 'H179Q', 'H179Y', 'I852M', 'M1689T', 'S505N', 'Y599_D600insSTDNEYFYVDFREYEY', 'Y823D', 'H179N', 'L770V', 'H179L', 'Y285C', 'I853T', 'W24R', 'H284P', 'A18D', 'T630I', 'S2215F', 'T315I', 'A707T', 'R304*', 'N553S', 'Q56P', 'H284N', 'S567L', 'A298T', 'R264C', 'T1977S', 'A263V', 'L747_P753delinsS', 'R304W', 'D325A', 'E124Q', 'Q545A', 'P1637L', 'L929S', 'CEP110-FGFR1 Fusion', 'F341V', 'T1977K', 'T1977I', 'G1529R', 'V104M', 'FGFR2-BICC1 Fusion', 'E139D', 'G469E', 'E636K', 'R1262A', 'S37F', 'D617G', 'S840_N841insGS', 'S37A', 'R280T', 'R280A', 'R202S', 'L611_E612insCSSDNEYFYVDFREYEYDLKWEFPRENL', 'D473H', 'P94A', 'R280K', 'R886W', 'V465M', 'Y426A', 'P655R', 'G13C', 'E1060A', 'K517R', 'CD74-NTRK1 Fusion', 'N480del', 'T599_V600insEAT', 'FGFR2-AHCYL1 Fusion', 'M737I', 'C49Y', 'G419V', 'Y87N', 'Y65C', 'S247Y', 'E2014K', 'L330R', 'P648S', 'S1206Y', 'Y87C', 'R833C', 'K745_A750del', 'A95D', 'P648L', 'S247F', 'C1365Y', 'Y835F', 'R1391S', 'E746_A750del', 'S227F', 'R1594Q', 'S227A', 'P753S', 'G1596V', 'R1391G', 'A763_Y764insFQEA', 'KIAA1509-PDGFRB Fusion', 'V843I', 'K52R', 'ESR1-YAP1 Fusion', 'P169H', 'N659K', 'C1265S', 'C47G', 'V1665M', 'K382E', 'R2336P', 'E330G', 'D820E', 'C47S', 'G776delinsVC', 'V726M', 'N505I', 'V894I', 'K335I', 'E82G', 'G853D', 'R174C', 'F1088Sfs*2', 'P130S', 'Y163C', 'L535P', 'PAX8-PPAR? Fusion', 'R273C', 'R273G', 'I1766S', 'G831E', 'P83L', 'C482R', 'R273H', 'R273L', 'E362H', 'EWSR1-ATF1 Fusion', 'ETV6-NTRK3 Fusion', 'LRIG3-ROS1 Fusion', 'G14V', 'N387P', 'S768_V769insVAS', 'K56N', 'H61R', 'V716M', 'L246V', 'H61D', 'A1170V', 'M980T', 'G333S', 'P2476L', 'D404G', 'E462G', 'A1065T', 'S1206R', 'ESR1-CCDC170 Fusion', 'F74S', 'G2101A', 'M374V', 'K745M', 'W1782C', 'R574fs', 'T413N', 'P531S', 'F123I', 'D1344H', 'K650E', 'KDELR2-ROS1 Fusion', 'C634Y', 'K650M', 'R177*', 'K650N', 'K650T', 'F170I', 'C141Y', 'K650Q', 'E1836K', 'K650R', 'EWSR1-ERG Fusion', 'L461V', 'P375S', 'A829P', 'R170W', 'R170Q', 'C481S', 'C381A', 'V173L', 'N822Y', 'E5K', 'S1206C', 'V173E', 'W1837G', 'Y570H', 'D324N', 'T74P', 'L52F', 'R1608S', 'P291Qfs*51', 'A1701P', 'T3211K', 'V765A', 'Deletion', 'G81D', 'S34Y', 'K78A', 'T725M', 'F156L', 'R1726G', 'R1209W', 'G81R', 'G81S', 'T34_A289del', 'L180P', 'H597Y', 'S34F', 'P1709L', 'R1093*', 'A1823T', 'N822H', 'T1691I', 'V155F', 'K162D', 'E1286V', 'SLC34A2-ROS1 Fusion', 'V155A', 'E571K', 'K83N', 'V665A', 'Q110R', 'S121A', 'S121C', 'T1151M', 'N551K', 'G1803A', 'V109G', 'R265S', 'N549K', 'Y64A', 'R370C', 'N549S', 'EWSR1-CREB1 Fusion', 'S746fs', 'R265C', 'S1655F', 'Q1826H', 'L576del', 'S23R', 'G2274V', 'P168T', 'D2723G', 'H174R', 'V471F', 'Q367P', 'S226D', 'Y174N', 'Y35N', 'IGL-MYC Fusion', 'D2665G', 'S257W', 'S196N', 'D661Y', 'D661V', 'L708P', 'G325R', 'V1804A', 'T2250A', 'S451E', 'S451F', 'K65M', 'S1733F', 'L57V', 'L193F', 'TMPRSS2-ETV1 Fusion', 'H132Y', 'A171V', 'M134L', '981_1028splice', 'K1436Q', 'Q209L', 'D842_M844del', 'G1763V', 'R87P', 'G127E', 'G127N', 'D326N', 'R272C', 'R514C', 'EP300-MLL Fusion', 'V370D', 'D935N', 'T468M', 'R87L', 'P44L', 'V294M', 'T599I', 'P44A', 'D450E', 'I1183T', 'D450H', 'A1066V', 'L611V', 'R201W', 'P186S', 'T710A', 'S1715C', 'R1088C', 'V839G', 'P654L', 'S1715N', 'S259F', 'Exon 2 mutations', 'R203C', 'V1673D', 'V1673F', 'A72V', 'S259P', 'A72S', 'W557R', 'A339V', 'K22A', 'D835H', 'NFASC-NTRK1 Fusion', 'D835E', 'E746_T751insIP', 'C125S', 'E265K', 'L265P', 'MLL-TET1 Fusion', 'L325F', 'D835Y', 'T1219I', 'P1819S', 'L37P', 'P26S', 'N181S', 'C27A', 'N235D', 'R841K', 'Y179C', 'N771_H773dup', 'R841Q', 'L1019V', 'V272L', 'R1627', 'C124N', 'Y220S', 'T131I', 'HIP1-PDGFRB Fusion', 'R140Q', 'T131L', 'E709_T710delinsD', 'T131S', 'C809G', 'Y220C', 'C124S', 'C124R', 'T28I', 'R162*', 'T82A', 'L1026F', 'Q635E', 'W515L', 'W515K', 'L63F', 'N56T', 'I33del', 'G1770V', 'N486_P490del', 'IGK-MYC Fusion', 'V128del', 'L97R', 'G101S', 'L582F', 'Y532C', 'Y846C', 'R683T', 'F1888L', 'L668F', 'F1888I', 'F241S', 'H701P', 'PAPSS1-BRAF Fusion', 'A1789S', 'R683G', 'M199del', 'F1888V', 'L112P', 'L112R', 'H1094R', 'H1094Y', 'Q96P', 'K147E', 'Q61L', 'TEL-JAK2 Fusion', 'Q61K', 'Q61H', 'F594_R595insSDNEYFYVDF', 'E106G', 'K82T', 'H1094L', 'Y364H', 'K2411T', 'R838Q', 'D579del', 'D2033N', 'Y572C', 'N1102Y', 'L1433S', 'T844M', 'E190K', 'G373R', 'Y69H', 'C91A', 'N454D', 'L2865V', 'R69C', 'L2106P', 'E541K', 'C91S', 'T75M', 'D84V', 'Y1703S', 'L1844R', 'W2626C', 'G1128A', 'I49S', '385_418del', 'K125R', 'G1128S', 'K125M', 'I668V', 'E160*', 'S35Q', 'S273C', 'I289M', 'X582_splice', 'S100F', 'E281K', 'CCND1-IGH Fusion', 'A727V', 'P490_Q494del', 'V1075Yfs*2', 'D1810A', 'W308C', 'L838P', 'D258N', 'R339W', 'ETV6-PDGFRA Fusion', 'D350G', 'Q164R', 'I290R', 'P704S', 'G118D', 'N564_Y578del', 'Q510E', 'D770_P772dup', 'A1459P', 'I559_D560insDKRMNS', 'V1643A', 'Promoter Hypermethylation', 'E286K', 'G596R', 'S502T', 'G596V', 'H1862L', 'K189N', 'R2659T', 'R661W', 'S68W', 'K79E', 'D96N', 'C39R', 'R2659K', 'R306S', 'G1971E', 'C278F', 'P278A', 'P278L', 'E120Q', 'T1700A', 'R112G', 'E1552del', 'L362R', 'P278S', 'H492R', 'K508M', 'R282Q', 'N1819S', 'N1819Y', 'Y599_D600insEYEYEYEY', 'W714*', 'W1718L', 'M1043V', 'M1043I', 'R571W', 'R348*', 'E3002K', 'Exon 13 deletion', 'R324L', 'T195I', 'R262T', 'C620Y', 'PDE4DIP-PDGFRB Fusion', 'H133Q', 'V509A', 'I2627F', 'Y32S', 'E239A', 'P1311T', 'R2502H', 'E1250K', 'A349P', 'D513Y', 'R2502C', 'W1718C', 'K5N', 'L239R', 'R380A', 'V550E', 'D1778G', 'G660D', 'S214A', 'S214C', 'R1699Q', 'Y772_A775dup', 'C378R', 'D816Y', 'D816F', 'R1699L', 'G34E', 'I843_D846del', 'H1686R', 'H1686Q', 'D816A', 'D816N', 'S214T', 'D816H', 'R20Q', 'Y149D', 'TFG-NTRK1 Fusion', 'C420R', 'Y1045W', 'L585I', 'Y130C', 'Q2405Rfs*17', 'E1322*', 'K618T', 'Y112H', 'A59T', 'BTBD1-NTRK3 Fusion', 'FGFR2-MGEA5 Fusion', 'W603_E604insDREYEYDLKW', 'V197L', 'P573_D579del', 'P85L', 'Y1045*', 'S308A', 'R497H', 'R515G', 'Y489C', 'N517S', 'Y931C', 'K398A', 'R2973C', 'R99P', 'K607T', 'P29S', 'R109*', 'V348L', 'A41P', 'S723F', 'P29L', 'P152L', 'V710A', 'F537_K539delinsL', 'D769A', 'A1752V', 'A2351G', 'E82D', 'P531L', 'D769H', 'P531A', 'L232LI', 'V157D', 'R748G', 'E82V', 'D769Y', 'N659R', 'A546D', 'R71G', 'Truncating Mutations', 'Q1811R', 'E746_T751delinsA', 'K292T', 'K379E', 'P1614S', 'P81L', 'N822I', 'A1843T', 'N234I', 'V299G', 'CCDC6-ROS1 Fusion', 'H41R', 'P577S', 'D408Y', 'Epigenetic Silencing', 'C1697R', 'V299L', 'D408E', 'TRB-NKX2-1 Fusion', 'D1091N', 'R2418G', 'D408H', 'Q579_L581del', 'R462E', 'W1456R', 'R428A', 'E35*', 'S70fsX93', 'V1810G', 'W557_V560del', 'E846K', 'T2722R', 'D1010Y', 'K179M', 'H876Q', 'E127G', 'S428F', 'D1010H', 'D1010N', 'A728V', 'Y40A', 'P286H', 'S1722F', 'P286R', 'V1534M', 'N1333Gfs*', 'D1029Y', 'EGFRvIII', 'I279P', 'S1101N', 'V995M', 'G309A', 'W290_I291delinsC', 'F133V', 'V157F', 'E1071W', 'T150I', 'R462C', 'I168F', 'I151S', 'L122R', 'R462I', 'L1764P', 'D1384V', 'Q60K', 'R164Q', 'R246K', 'G309E', 'EWSR1-NR4A3 Fusion'])\n"
     ]
    }
   ],
   "source": [
    "unique_variation= set(train.Variation)\n",
    "print unique_variation"
   ]
  },
  {
   "cell_type": "markdown",
   "metadata": {},
   "source": [
    "# Unique Genes"
   ]
  },
  {
   "cell_type": "code",
   "execution_count": 50,
   "metadata": {},
   "outputs": [
    {
     "name": "stdout",
     "output_type": "stream",
     "text": [
      "set(['ERRFI1', 'CCNE1', 'STK11', 'MEN1', 'FAM58A', 'AKT1', 'AKT2', 'AKT3', 'ARAF', 'RB1', 'IKBKE', 'NKX2-1', 'ROS1', 'AXL', 'RARA', 'RAD51D', 'BRCA1', 'PIK3CA', 'PIK3CB', 'MAP3K1', 'EIF1AX', 'INPP4B', 'WHSC1L1', 'GATA3', 'FGFR2', 'GLI1', 'CDH1', 'PPP6C', 'MYC', 'YAP1', 'BTK', 'NF2', 'CDKN2B', 'ERBB3', 'IGF1R', 'CDKN2A', 'PIK3R1', 'ERBB4', 'BARD1', 'IDH2', 'IDH1', 'NUP93', 'RET', 'BRD4', 'PMS1', 'MDM2', 'SETD2', 'MDM4', 'FGFR3', 'RAF1', 'FGFR1', 'MYD88', 'CCND1', 'ARID1B', 'ARID1A', 'CCND2', 'B2M', 'TCF7L2', 'KIT', 'FOXA1', 'PTEN', 'FAT1', 'RUNX1', 'WHSC1', 'APC', 'CCND3', 'CTCF', 'KDM5C', 'IL7R', 'DNMT3B', 'BRCA2', 'FOXP1', 'SDHC', 'CDKN1B', 'CDKN1A', 'RRAS2', 'CARM1', 'RIT1', 'PTPN11', 'RICTOR', 'KDM5A', 'XPO1', 'MYCN', 'PPM1D', 'SRSF2', 'ASXL1', 'TSC2', 'RASA1', 'ASXL2', 'JUN', 'PIK3R3', 'PIK3R2', 'H3F3A', 'JAK1', 'MSH2', 'FLT1', 'CHEK2', 'CARD11', 'CTLA4', 'TCF3', 'STAG2', 'ARID2', 'PBRM1', 'RNF43', 'VEGFA', 'HRAS', 'RHOA', 'FGF4', 'FGF3', 'PAX8', 'KEAP1', 'ETV1', 'EPAS1', 'MGA', 'TP53', 'GNAQ', 'ETV6', 'DDR2', 'MPL', 'CBL', 'PAK1', 'MAP2K2', 'MEF2B', 'SHQ1', 'PRDM1', 'NFE2L2', 'NSD1', 'CREBBP', 'AGO2', 'PDGFRB', 'PDGFRA', 'PMS2', 'MAP2K1', 'PPP2R1A', 'SMAD4', 'PIK3CD', 'JAK2', 'ATM', 'SMAD2', 'SMAD3', 'SMO', 'POLE', 'ATR', 'NTRK2', 'PIM1', 'ABL1', 'BRIP1', 'NTRK3', 'IKZF1', 'FLT3', 'NCOR1', 'TSC1', 'STAT3', 'NPM1', 'NFKBIA', 'BCL10', 'FGF19', 'RBM10', 'FANCC', 'FANCA', 'HLA-B', 'KDM6A', 'HLA-A', 'MAPK1', 'FBXW7', 'TGFBR2', 'TGFBR1', 'FUBP1', 'TET1', 'ERCC4', 'TET2', 'RXRA', 'MTOR', 'BCOR', 'DUSP4', 'ATRX', 'EP300', 'RAD51C', 'RAD51B', 'HIST1H1C', 'KNSTRN', 'DICER1', 'ARID5B', 'SOS1', 'VHL', 'ESR1', 'FOXO1', 'MET', 'SHOC2', 'EZH2', 'CDK4', 'KDR', 'CDK6', 'RAD50', 'CDK8', 'RHEB', 'NTRK1', 'GNAS', 'CIC', 'ERBB2', 'ACVR1', 'CDKN2C', 'ERCC2', 'ERCC3', 'SF3B1', 'HNF1A', 'MSH6', 'PTCH1', 'CTNNB1', 'LATS2', 'LATS1', 'ERG', 'CASP8', 'MAP2K4', 'ELF3', 'SMARCA4', 'CEBPA', 'XRCC2', 'BCL2L11', 'MYOD1', 'AXIN1', 'ALK', 'RAD54L', 'NRAS', 'MLH1', 'MED12', 'KLF4', 'AURKA', 'AURKB', 'RYBP', 'TERT', 'RAD21', 'KMT2C', 'KMT2B', 'KMT2A', 'DNMT3A', 'SMARCB1', 'KMT2D', 'SPOP', 'TMPRSS2', 'RAB35', 'SRC', 'CDK12', 'AR', 'TP53BP1', 'EPCAM', 'RAC1', 'KRAS', 'BAP1', 'NF1', 'PTPRT', 'SOX9', 'NOTCH1', 'NOTCH2', 'U2AF1', 'PTPRD', 'FGFR4', 'BRAF', 'GNA11', 'FOXL2', 'EGFR', 'SDHB', 'EWSR1', 'BCL2'])\n",
      "264\n"
     ]
    }
   ],
   "source": [
    "unique_genes=set(train.Gene)\n",
    "print unique_genes\n",
    "print len(unique_genes)"
   ]
  },
  {
   "cell_type": "code",
   "execution_count": 51,
   "metadata": {
    "collapsed": true
   },
   "outputs": [],
   "source": [
    "# assigning unique numbers for each unique genes\n",
    "number_gene={}\n",
    "ctr=1\n",
    "for i in set(unique_genes):\n",
    "    number_gene[ctr]=i\n",
    "    ctr=ctr+1"
   ]
  },
  {
   "cell_type": "code",
   "execution_count": 52,
   "metadata": {
    "collapsed": true
   },
   "outputs": [],
   "source": [
    "# assigning unique numbers for each unique variation\n",
    "number_variation={}\n",
    "ctr=1\n",
    "for i in set(unique_variation):\n",
    "    number_variation[ctr]=i\n",
    "    ctr=ctr+1\n"
   ]
  },
  {
   "cell_type": "code",
   "execution_count": 53,
   "metadata": {
    "collapsed": true
   },
   "outputs": [],
   "source": [
    "# creating a new dataframe with the numerical values\n",
    "import pandas as pd\n",
    "dfnum_traino=train.copy(deep=True)\n",
    "#for gene\n",
    "\n",
    "for index, row in dfnum_traino.iterrows():\n",
    "    for j in dict(number_gene):\n",
    "        if(row['Gene']==number_gene[j]):\n",
    "            dfnum_traino.loc[index,'Gene']=j"
   ]
  },
  {
   "cell_type": "code",
   "execution_count": 54,
   "metadata": {},
   "outputs": [
    {
     "name": "stdout",
     "output_type": "stream",
     "text": [
      "        ID Gene Variation  Class  \\\n",
      "0        0  121      2500      1   \n",
      "1        1   60       913      2   \n",
      "2        2   60      2069      2   \n",
      "3        3   60      2311      3   \n",
      "4        4   60      1164      4   \n",
      "5        5   60       651      4   \n",
      "6        6   60       756      5   \n",
      "7        7   60      2517      1   \n",
      "8        8   60      1362      4   \n",
      "9        9   60       117      4   \n",
      "10      10   60      1312      4   \n",
      "11      11   60      2422      4   \n",
      "12      12   60      1542      4   \n",
      "13      13   60       116      4   \n",
      "14      14   60      1579      5   \n",
      "15      15   60      1481      4   \n",
      "16      16   60      2500      1   \n",
      "17      17   60       549      4   \n",
      "18      18   60      2473      5   \n",
      "19      19   60      1366      4   \n",
      "20      20   60      1453      6   \n",
      "21      21   60      1541      4   \n",
      "22      22   60      1999      4   \n",
      "23      23   60       739      4   \n",
      "24      24   60      2091      4   \n",
      "25      25   60      1569      4   \n",
      "26      26  216      1699      4   \n",
      "27      27  107      2701      4   \n",
      "28      28  107       824      7   \n",
      "29      29  107       239      4   \n",
      "...    ...  ...       ...    ...   \n",
      "3291  3291   65      2833      7   \n",
      "3292  3292   65      2483      7   \n",
      "3293  3293   65      1680      1   \n",
      "3294  3294   65      2374      7   \n",
      "3295  3295   65       359      4   \n",
      "3296  3296   65      2211      7   \n",
      "3297  3297   35      2485      4   \n",
      "3298  3298   35      2643      4   \n",
      "3299  3299   35      2692      4   \n",
      "3300  3300   35      2544      4   \n",
      "3301  3301   35      1391      4   \n",
      "3302  3302   35       529      4   \n",
      "3303  3303   35      2901      4   \n",
      "3304  3304   35      2189      4   \n",
      "3305  3305   35      1070      4   \n",
      "3306  3306   35      1826      1   \n",
      "3307  3307   35      2500      1   \n",
      "3308  3308   35      1564      7   \n",
      "3309  3309   35      1779      1   \n",
      "3310  3310   35       730      7   \n",
      "3311  3311   35       781      4   \n",
      "3312  3312   35      1296      4   \n",
      "3313  3313   35      2138      4   \n",
      "3314  3314   35       518      6   \n",
      "3315  3315   35       689      4   \n",
      "3316  3316   35      1782      4   \n",
      "3317  3317   35      2528      1   \n",
      "3318  3318   35       960      1   \n",
      "3319  3319   35      1983      4   \n",
      "3320  3320   35      2547      4   \n",
      "\n",
      "                                                   TEXT  LenText  Text_count  \n",
      "0     Cyclin-dependent kinases (CDKs) regulate a var...    39765        6089  \n",
      "1      Abstract Background  Non-small cell lung canc...    36831        5722  \n",
      "2      Abstract Background  Non-small cell lung canc...    36831        5722  \n",
      "3     Recent evidence has demonstrated that acquired...    36308        5572  \n",
      "4     Oncogenic mutations in the monomeric Casitas B...    41427        6202  \n",
      "5     Oncogenic mutations in the monomeric Casitas B...    41427        6202  \n",
      "6     Oncogenic mutations in the monomeric Casitas B...    41427        6202  \n",
      "7     CBL is a negative regulator of activated recep...    99183       14683  \n",
      "8      Abstract Juvenile myelomonocytic leukemia (JM...    80070       11923  \n",
      "9      Abstract Juvenile myelomonocytic leukemia (JM...    38642        5721  \n",
      "10    Oncogenic mutations in the monomeric Casitas B...    41427        6202  \n",
      "11    Noonan syndrome is an autosomal dominant conge...    83577       12174  \n",
      "12    Noonan syndrome is an autosomal dominant conge...   173915       25594  \n",
      "13    Noonan syndrome is an autosomal dominant conge...    83577       12174  \n",
      "14    Oncogenic mutations in the monomeric Casitas B...    41427        6202  \n",
      "15    Noonan syndrome is an autosomal dominant conge...    42149        5972  \n",
      "16    To determine if residual cylindrical refractiv...    54603        8118  \n",
      "17    Acquired uniparental disomy (aUPD) is a common...    20770        2992  \n",
      "18    Oncogenic mutations in the monomeric Casitas B...    41427        6202  \n",
      "19    Acquired uniparental disomy (aUPD) is a common...    20770        2992  \n",
      "20     Abstract Background  Non-small cell lung canc...    78259       11924  \n",
      "21    Oncogenic mutations in the monomeric Casitas B...    41427        6202  \n",
      "22    Oncogenic mutations in the monomeric Casitas B...    41427        6202  \n",
      "23    Recent evidence has demonstrated that acquired...    36308        5572  \n",
      "24    Recent evidence has demonstrated that acquired...    36308        5572  \n",
      "25    Recent evidence has demonstrated that acquired...    36308        5572  \n",
      "26     Abstract N-myristoylation is a common form of...    45247        6648  \n",
      "27    Heterozygous mutations in the telomerase compo...     9298        1412  \n",
      "28    Sequencing studies have identified many recurr...    91254       13783  \n",
      "29    Heterozygous mutations in the telomerase compo...     9298        1412  \n",
      "...                                                 ...      ...         ...  \n",
      "3291  We investigatedthe transformingactivityofthe r...    12246        1913  \n",
      "3292  We investigatedthe transformingactivityofthe r...    12246        1913  \n",
      "3293  RET is a transmembrane tyrosine kinase partici...    25840        3866  \n",
      "3294  Introduction  Inherited germ line activating m...    35755        5291  \n",
      "3295  Many missense mutations in the RET proto-oncog...    32424        4733  \n",
      "3296  The RET proto-oncogene encodes a receptor tyro...   122733       18629  \n",
      "3297  THE AML1 GENE IS KNOWN as the most frequent ta...   102856       15079  \n",
      "3298  Introduction  Myelodysplastic syndromes (MDS) ...    40363        6068  \n",
      "3299  The BCR-ABL fusion protein generated by t(9;22...    43466        6332  \n",
      "3300  The most frequent mutations associated with le...    67372        9818  \n",
      "3301  The most frequent mutations associated with le...    75167       11001  \n",
      "3302  Familial platelet disorder with predisposition...    38887        5799  \n",
      "3303  Introduction  Myelodysplastic syndromes (MDS) ...    40363        6068  \n",
      "3304  Familial platelet disorder with predisposition...    38887        5799  \n",
      "3305  Introduction  Myelodysplastic syndromes (MDS) ...    40363        6068  \n",
      "3306  Here we report two new RUNX1 mutations in one ...    11999        1764  \n",
      "3307  The RUNX genes have come to prominence recentl...    99482       14964  \n",
      "3308   Familial platelet disorder with propensity to...    41189        6058  \n",
      "3309  The BCR-ABL fusion protein generated by t(9;22...    43466        6332  \n",
      "3310  RUNX proteins belong to a family of metazoan t...    65747        9117  \n",
      "3311  The AML1/EVI-1 chimeric gene is generated by t...    56551        7898  \n",
      "3312  Balanced chromosomal translocations are freque...    33648        4960  \n",
      "3313  The BCR-ABL fusion protein generated by t(9;22...    43466        6332  \n",
      "3314  Introduction  Myelodysplastic syndromes (MDS) ...    94605       14210  \n",
      "3315  The RUNX gene family includes three evolutiona...    81503       11803  \n",
      "3316  Introduction  Myelodysplastic syndromes (MDS) ...    74278       11021  \n",
      "3317  Introduction  Myelodysplastic syndromes (MDS) ...    40363        6068  \n",
      "3318  The Runt-related transcription factor 1 gene (...    36384        5122  \n",
      "3319  The RUNX1/AML1 gene is the most frequent targe...    32568        4885  \n",
      "3320  The most frequent mutations associated with le...    67372        9818  \n",
      "\n",
      "[3321 rows x 7 columns]\n"
     ]
    }
   ],
   "source": [
    "#for variation   \n",
    "\n",
    "for index, row in dfnum_traino.iterrows():\n",
    "    for j in dict(number_variation):\n",
    "        if(row['Variation']==number_variation[j]):\n",
    "            dfnum_traino.loc[index,'Variation']=j                \n",
    "print dfnum_traino"
   ]
  },
  {
   "cell_type": "code",
   "execution_count": 55,
   "metadata": {},
   "outputs": [
    {
     "name": "stdout",
     "output_type": "stream",
     "text": [
      "   ID Gene Variation  Class  \\\n",
      "0   0  121      2500      1   \n",
      "1   1   60       913      2   \n",
      "2   2   60      2069      2   \n",
      "3   3   60      2311      3   \n",
      "4   4   60      1164      4   \n",
      "\n",
      "                                                TEXT  LenText  Text_count  \n",
      "0  Cyclin-dependent kinases (CDKs) regulate a var...    39765        6089  \n",
      "1   Abstract Background  Non-small cell lung canc...    36831        5722  \n",
      "2   Abstract Background  Non-small cell lung canc...    36831        5722  \n",
      "3  Recent evidence has demonstrated that acquired...    36308        5572  \n",
      "4  Oncogenic mutations in the monomeric Casitas B...    41427        6202  \n"
     ]
    }
   ],
   "source": [
    "# creating a new column called Text Count\n",
    "dfnum_traino.loc[:, 'Text_count']  = dfnum_traino[\"TEXT\"].apply(lambda x: len(x.split()))\n",
    "# we add a new column in the dataframe called 'LenText' which contains the length of each text field\n",
    "dfnum_traino.loc[:,'LenText'] =(dfnum_traino['TEXT'].str.len()).astype(int)\n",
    "print dfnum_traino.head()"
   ]
  },
  {
   "cell_type": "markdown",
   "metadata": {},
   "source": [
    "# Test And Train Split"
   ]
  },
  {
   "cell_type": "code",
   "execution_count": 56,
   "metadata": {},
   "outputs": [
    {
     "data": {
      "text/html": [
       "<div>\n",
       "<style>\n",
       "    .dataframe thead tr:only-child th {\n",
       "        text-align: right;\n",
       "    }\n",
       "\n",
       "    .dataframe thead th {\n",
       "        text-align: left;\n",
       "    }\n",
       "\n",
       "    .dataframe tbody tr th {\n",
       "        vertical-align: top;\n",
       "    }\n",
       "</style>\n",
       "<table border=\"1\" class=\"dataframe\">\n",
       "  <thead>\n",
       "    <tr style=\"text-align: right;\">\n",
       "      <th></th>\n",
       "      <th>ID</th>\n",
       "      <th>Gene</th>\n",
       "      <th>Variation</th>\n",
       "      <th>Class</th>\n",
       "      <th>TEXT</th>\n",
       "      <th>LenText</th>\n",
       "      <th>Text_count</th>\n",
       "    </tr>\n",
       "  </thead>\n",
       "  <tbody>\n",
       "    <tr>\n",
       "      <th>0</th>\n",
       "      <td>0</td>\n",
       "      <td>121</td>\n",
       "      <td>2500</td>\n",
       "      <td>1</td>\n",
       "      <td>Cyclin-dependent kinases (CDKs) regulate a var...</td>\n",
       "      <td>39765</td>\n",
       "      <td>6089</td>\n",
       "    </tr>\n",
       "    <tr>\n",
       "      <th>1</th>\n",
       "      <td>1</td>\n",
       "      <td>60</td>\n",
       "      <td>913</td>\n",
       "      <td>2</td>\n",
       "      <td>Abstract Background  Non-small cell lung canc...</td>\n",
       "      <td>36831</td>\n",
       "      <td>5722</td>\n",
       "    </tr>\n",
       "    <tr>\n",
       "      <th>2</th>\n",
       "      <td>2</td>\n",
       "      <td>60</td>\n",
       "      <td>2069</td>\n",
       "      <td>2</td>\n",
       "      <td>Abstract Background  Non-small cell lung canc...</td>\n",
       "      <td>36831</td>\n",
       "      <td>5722</td>\n",
       "    </tr>\n",
       "    <tr>\n",
       "      <th>3</th>\n",
       "      <td>3</td>\n",
       "      <td>60</td>\n",
       "      <td>2311</td>\n",
       "      <td>3</td>\n",
       "      <td>Recent evidence has demonstrated that acquired...</td>\n",
       "      <td>36308</td>\n",
       "      <td>5572</td>\n",
       "    </tr>\n",
       "    <tr>\n",
       "      <th>4</th>\n",
       "      <td>4</td>\n",
       "      <td>60</td>\n",
       "      <td>1164</td>\n",
       "      <td>4</td>\n",
       "      <td>Oncogenic mutations in the monomeric Casitas B...</td>\n",
       "      <td>41427</td>\n",
       "      <td>6202</td>\n",
       "    </tr>\n",
       "  </tbody>\n",
       "</table>\n",
       "</div>"
      ],
      "text/plain": [
       "   ID Gene Variation  Class  \\\n",
       "0   0  121      2500      1   \n",
       "1   1   60       913      2   \n",
       "2   2   60      2069      2   \n",
       "3   3   60      2311      3   \n",
       "4   4   60      1164      4   \n",
       "\n",
       "                                                TEXT  LenText  Text_count  \n",
       "0  Cyclin-dependent kinases (CDKs) regulate a var...    39765        6089  \n",
       "1   Abstract Background  Non-small cell lung canc...    36831        5722  \n",
       "2   Abstract Background  Non-small cell lung canc...    36831        5722  \n",
       "3  Recent evidence has demonstrated that acquired...    36308        5572  \n",
       "4  Oncogenic mutations in the monomeric Casitas B...    41427        6202  "
      ]
     },
     "execution_count": 56,
     "metadata": {},
     "output_type": "execute_result"
    }
   ],
   "source": [
    "#copying dataframe in another variable and removing unimportant features\n",
    "data=dfnum_traino.copy()\n",
    "data.head()"
   ]
  },
  {
   "cell_type": "code",
   "execution_count": 57,
   "metadata": {},
   "outputs": [
    {
     "name": "stdout",
     "output_type": "stream",
     "text": [
      "170\n"
     ]
    }
   ],
   "source": [
    "import math\n",
    "class1_data=data[data.Class==1]\n",
    "totalsize=len(class1_data)\n",
    "train_size=int(math.ceil(0.7*totalsize))\n",
    "train_data=class1_data.head(train_size)\n",
    "test_data=class1_data.tail(totalsize-train_size)\n",
    "print len(test_data)"
   ]
  },
  {
   "cell_type": "code",
   "execution_count": 58,
   "metadata": {},
   "outputs": [
    {
     "name": "stdout",
     "output_type": "stream",
     "text": [
      "1    170\n",
      "2    135\n",
      "Name: Class, dtype: int64\n"
     ]
    }
   ],
   "source": [
    "class2_data=data[data.Class==2]\n",
    "totalsize=len(class2_data)\n",
    "train_size=int(math.ceil(0.7*totalsize))\n",
    "train_data=train_data.append(class2_data.head(train_size))\n",
    "test_data=test_data.append(class2_data.tail(totalsize-train_size))\n",
    "print test_data.Class.value_counts()"
   ]
  },
  {
   "cell_type": "code",
   "execution_count": 59,
   "metadata": {},
   "outputs": [
    {
     "name": "stdout",
     "output_type": "stream",
     "text": [
      "331\n"
     ]
    }
   ],
   "source": [
    "class3_data=data[data.Class==3]\n",
    "totalsize=len(class3_data)\n",
    "train_size=int(math.ceil(0.7*totalsize))\n",
    "train_data=train_data.append(class3_data.head(train_size))\n",
    "test_data=test_data.append(class3_data.tail(totalsize-train_size))\n",
    "print len(test_data)"
   ]
  },
  {
   "cell_type": "code",
   "execution_count": 60,
   "metadata": {},
   "outputs": [
    {
     "name": "stdout",
     "output_type": "stream",
     "text": [
      "4    205\n",
      "1    170\n",
      "2    135\n",
      "3     26\n",
      "Name: Class, dtype: int64\n"
     ]
    }
   ],
   "source": [
    "class4_data=data[data.Class==4]\n",
    "totalsize=len(class4_data)\n",
    "train_size=int(math.ceil(0.7*totalsize))\n",
    "train_data=train_data.append(class4_data.head(train_size))\n",
    "test_data=test_data.append(class4_data.tail(totalsize-train_size))\n",
    "print test_data.Class.value_counts()"
   ]
  },
  {
   "cell_type": "code",
   "execution_count": 61,
   "metadata": {},
   "outputs": [
    {
     "name": "stdout",
     "output_type": "stream",
     "text": [
      "608\n"
     ]
    }
   ],
   "source": [
    "class5_data=data[data.Class==5]\n",
    "totalsize=len(class5_data)\n",
    "train_size=int(math.ceil(0.7*totalsize))\n",
    "train_data=train_data.append(class5_data.head(train_size))\n",
    "test_data=test_data.append(class5_data.tail(totalsize-train_size))\n",
    "print len(test_data)"
   ]
  },
  {
   "cell_type": "code",
   "execution_count": 62,
   "metadata": {},
   "outputs": [
    {
     "name": "stdout",
     "output_type": "stream",
     "text": [
      "690\n"
     ]
    }
   ],
   "source": [
    "class6_data=data[data.Class==6]\n",
    "totalsize=len(class6_data)\n",
    "train_size=int(math.ceil(0.7*totalsize))\n",
    "train_data=train_data.append(class6_data.head(train_size))\n",
    "test_data=test_data.append(class6_data.tail(totalsize-train_size))\n",
    "print len(test_data)"
   ]
  },
  {
   "cell_type": "code",
   "execution_count": 63,
   "metadata": {},
   "outputs": [
    {
     "name": "stdout",
     "output_type": "stream",
     "text": [
      "975\n"
     ]
    }
   ],
   "source": [
    "class7_data=data[data.Class==7]\n",
    "totalsize=len(class7_data)\n",
    "train_size=int(math.ceil(0.7*totalsize))\n",
    "train_data=train_data.append(class7_data.head(train_size))\n",
    "test_data=test_data.append(class7_data.tail(totalsize-train_size))\n",
    "print len(test_data)"
   ]
  },
  {
   "cell_type": "code",
   "execution_count": 64,
   "metadata": {
    "collapsed": true
   },
   "outputs": [],
   "source": [
    "class8_data=data[data.Class==8]\n",
    "totalsize=len(class8_data)\n",
    "train_size=int(math.ceil(0.7*totalsize))\n",
    "train_data=train_data.append(class8_data.head(train_size))\n",
    "test_data=test_data.append(class8_data.tail(totalsize-train_size))"
   ]
  },
  {
   "cell_type": "code",
   "execution_count": 65,
   "metadata": {},
   "outputs": [
    {
     "name": "stdout",
     "output_type": "stream",
     "text": [
      "991\n"
     ]
    }
   ],
   "source": [
    "class9_data=data[data.Class==9]\n",
    "totalsize=len(class9_data)\n",
    "train_size=int(math.ceil(0.7*totalsize))\n",
    "train_data=(train_data.append(class9_data.head(train_size)))\n",
    "test_data=test_data.append(class9_data.tail(totalsize-train_size))\n",
    "print len(test_data)"
   ]
  },
  {
   "cell_type": "code",
   "execution_count": 66,
   "metadata": {},
   "outputs": [
    {
     "data": {
      "text/plain": [
       "2330"
      ]
     },
     "execution_count": 66,
     "metadata": {},
     "output_type": "execute_result"
    }
   ],
   "source": [
    "len (train_data)"
   ]
  },
  {
   "cell_type": "code",
   "execution_count": 67,
   "metadata": {},
   "outputs": [
    {
     "data": {
      "text/plain": [
       "991"
      ]
     },
     "execution_count": 67,
     "metadata": {},
     "output_type": "execute_result"
    }
   ],
   "source": [
    "len(test_data)"
   ]
  },
  {
   "cell_type": "code",
   "execution_count": 68,
   "metadata": {},
   "outputs": [
    {
     "data": {
      "text/html": [
       "<div>\n",
       "<style>\n",
       "    .dataframe thead tr:only-child th {\n",
       "        text-align: right;\n",
       "    }\n",
       "\n",
       "    .dataframe thead th {\n",
       "        text-align: left;\n",
       "    }\n",
       "\n",
       "    .dataframe tbody tr th {\n",
       "        vertical-align: top;\n",
       "    }\n",
       "</style>\n",
       "<table border=\"1\" class=\"dataframe\">\n",
       "  <thead>\n",
       "    <tr style=\"text-align: right;\">\n",
       "      <th></th>\n",
       "      <th>ID</th>\n",
       "      <th>Gene</th>\n",
       "      <th>Variation</th>\n",
       "      <th>Class</th>\n",
       "      <th>TEXT</th>\n",
       "      <th>LenText</th>\n",
       "      <th>Text_count</th>\n",
       "    </tr>\n",
       "  </thead>\n",
       "  <tbody>\n",
       "    <tr>\n",
       "      <th>2073</th>\n",
       "      <td>2073</td>\n",
       "      <td>206</td>\n",
       "      <td>940</td>\n",
       "      <td>1</td>\n",
       "      <td>TET proteins oxidize 5-methylcytosine (5mC) on...</td>\n",
       "      <td>46418</td>\n",
       "      <td>7123</td>\n",
       "    </tr>\n",
       "    <tr>\n",
       "      <th>2074</th>\n",
       "      <td>2074</td>\n",
       "      <td>206</td>\n",
       "      <td>1507</td>\n",
       "      <td>1</td>\n",
       "      <td>TET proteins oxidize 5-methylcytosine (5mC) on...</td>\n",
       "      <td>46418</td>\n",
       "      <td>7123</td>\n",
       "    </tr>\n",
       "    <tr>\n",
       "      <th>2080</th>\n",
       "      <td>2080</td>\n",
       "      <td>206</td>\n",
       "      <td>2040</td>\n",
       "      <td>1</td>\n",
       "      <td>TET proteins oxidize 5-methylcytosine (5mC) on...</td>\n",
       "      <td>46418</td>\n",
       "      <td>7123</td>\n",
       "    </tr>\n",
       "    <tr>\n",
       "      <th>2085</th>\n",
       "      <td>2085</td>\n",
       "      <td>183</td>\n",
       "      <td>566</td>\n",
       "      <td>1</td>\n",
       "      <td>Argonaute (Ago) proteins mediate silencing of ...</td>\n",
       "      <td>31087</td>\n",
       "      <td>4755</td>\n",
       "    </tr>\n",
       "    <tr>\n",
       "      <th>2086</th>\n",
       "      <td>2086</td>\n",
       "      <td>183</td>\n",
       "      <td>2540</td>\n",
       "      <td>1</td>\n",
       "      <td>Argonaute (Ago) proteins mediate silencing of ...</td>\n",
       "      <td>31087</td>\n",
       "      <td>4755</td>\n",
       "    </tr>\n",
       "  </tbody>\n",
       "</table>\n",
       "</div>"
      ],
      "text/plain": [
       "        ID Gene Variation  Class  \\\n",
       "2073  2073  206       940      1   \n",
       "2074  2074  206      1507      1   \n",
       "2080  2080  206      2040      1   \n",
       "2085  2085  183       566      1   \n",
       "2086  2086  183      2540      1   \n",
       "\n",
       "                                                   TEXT  LenText  Text_count  \n",
       "2073  TET proteins oxidize 5-methylcytosine (5mC) on...    46418        7123  \n",
       "2074  TET proteins oxidize 5-methylcytosine (5mC) on...    46418        7123  \n",
       "2080  TET proteins oxidize 5-methylcytosine (5mC) on...    46418        7123  \n",
       "2085  Argonaute (Ago) proteins mediate silencing of ...    31087        4755  \n",
       "2086  Argonaute (Ago) proteins mediate silencing of ...    31087        4755  "
      ]
     },
     "execution_count": 68,
     "metadata": {},
     "output_type": "execute_result"
    }
   ],
   "source": [
    "test_data.head()"
   ]
  },
  {
   "cell_type": "markdown",
   "metadata": {},
   "source": [
    "## Decision tree classifier on Gene And Variation Features"
   ]
  },
  {
   "cell_type": "code",
   "execution_count": 69,
   "metadata": {
    "collapsed": true
   },
   "outputs": [],
   "source": [
    "train_data_DecisionTree=train_data.copy()\n",
    "train_target=train_data_DecisionTree.Class\n",
    "test_data_DecisionTree=test_data.copy()\n",
    "test_target=test_data.Class"
   ]
  },
  {
   "cell_type": "code",
   "execution_count": 70,
   "metadata": {
    "collapsed": true
   },
   "outputs": [],
   "source": [
    "del train_data_DecisionTree['ID']\n",
    "del train_data_DecisionTree['TEXT']\n",
    "del train_data_DecisionTree['Class']\n",
    "del train_data_DecisionTree['LenText']\n",
    "del train_data_DecisionTree['Text_count']\n",
    "del test_data_DecisionTree['ID']\n",
    "del test_data_DecisionTree['TEXT']\n",
    "del test_data_DecisionTree['Class']\n",
    "del test_data_DecisionTree['LenText']\n",
    "del test_data_DecisionTree['Text_count']"
   ]
  },
  {
   "cell_type": "code",
   "execution_count": 71,
   "metadata": {},
   "outputs": [
    {
     "data": {
      "text/plain": [
       "DecisionTreeClassifier(class_weight=None, criterion='gini', max_depth=6,\n",
       "            max_features=None, max_leaf_nodes=None,\n",
       "            min_impurity_split=1e-07, min_samples_leaf=1,\n",
       "            min_samples_split=2, min_weight_fraction_leaf=0.0,\n",
       "            presort=False, random_state=None, splitter='best')"
      ]
     },
     "execution_count": 71,
     "metadata": {},
     "output_type": "execute_result"
    }
   ],
   "source": [
    "from sklearn import tree\n",
    "clf=tree.DecisionTreeClassifier(max_depth=6)\n",
    "clf.fit(train_data_DecisionTree,train_target)"
   ]
  },
  {
   "cell_type": "code",
   "execution_count": 72,
   "metadata": {},
   "outputs": [
    {
     "data": {
      "text/plain": [
       "991"
      ]
     },
     "execution_count": 72,
     "metadata": {},
     "output_type": "execute_result"
    }
   ],
   "source": [
    "len(test_data_DecisionTree)"
   ]
  },
  {
   "cell_type": "code",
   "execution_count": 73,
   "metadata": {},
   "outputs": [
    {
     "data": {
      "text/plain": [
       "991"
      ]
     },
     "execution_count": 73,
     "metadata": {},
     "output_type": "execute_result"
    }
   ],
   "source": [
    "predicted=clf.predict(test_data_DecisionTree)\n",
    "len(predicted)"
   ]
  },
  {
   "cell_type": "code",
   "execution_count": 74,
   "metadata": {},
   "outputs": [
    {
     "data": {
      "text/plain": [
       "0.37840565085771949"
      ]
     },
     "execution_count": 74,
     "metadata": {},
     "output_type": "execute_result"
    }
   ],
   "source": [
    "from sklearn import metrics\n",
    "metrics.accuracy_score(test_target,predicted)"
   ]
  },
  {
   "cell_type": "code",
   "execution_count": 75,
   "metadata": {},
   "outputs": [
    {
     "name": "stdout",
     "output_type": "stream",
     "text": [
      "             precision    recall  f1-score   support\n",
      "\n",
      "          1       0.49      0.22      0.30       170\n",
      "          2       0.00      0.00      0.00       135\n",
      "          3       0.00      0.00      0.00        26\n",
      "          4       0.33      0.59      0.42       205\n",
      "          5       0.19      0.44      0.26        72\n",
      "          6       0.47      0.79      0.59        82\n",
      "          7       0.52      0.42      0.47       285\n",
      "          8       0.00      0.00      0.00         5\n",
      "          9       0.00      0.00      0.00        11\n",
      "\n",
      "avg / total       0.35      0.38      0.34       991\n",
      "\n"
     ]
    },
    {
     "name": "stderr",
     "output_type": "stream",
     "text": [
      "C:\\Users\\Ashu\\Anaconda2\\lib\\site-packages\\sklearn\\metrics\\classification.py:1113: UndefinedMetricWarning: Precision and F-score are ill-defined and being set to 0.0 in labels with no predicted samples.\n",
      "  'precision', 'predicted', average, warn_for)\n"
     ]
    }
   ],
   "source": [
    "decisionTree_confusionmatrix= metrics.confusion_matrix(test_target,predicted)\n",
    "print metrics.classification_report(test_target,predicted)"
   ]
  },
  {
   "cell_type": "code",
   "execution_count": 76,
   "metadata": {},
   "outputs": [
    {
     "data": {
      "image/png": "[encoded data removed]",
      "text/plain": [
       "<matplotlib.figure.Figure at 0x2df1d7b8>"
      ]
     },
     "metadata": {},
     "output_type": "display_data"
    }
   ],
   "source": [
    "sns.heatmap(decisionTree_confusionmatrix,annot=True,fmt='d')\n",
    "plt.show()"
   ]
  },
  {
   "cell_type": "markdown",
   "metadata": {},
   "source": [
    "Here we could easily observe that most of the results we are getting are incorrect so now we will try to do work\n",
    "on Text and implement some models"
   ]
  },
  {
   "cell_type": "markdown",
   "metadata": {},
   "source": [
    "## Logistic Regression On Text Data Only\n"
   ]
  },
  {
   "cell_type": "code",
   "execution_count": 77,
   "metadata": {
    "collapsed": true
   },
   "outputs": [],
   "source": [
    "train_data_LogisticRegression=train_data.copy()\n",
    "test_data_LogisticRegression=test_data.copy()"
   ]
  },
  {
   "cell_type": "code",
   "execution_count": 78,
   "metadata": {
    "collapsed": true
   },
   "outputs": [],
   "source": [
    "del train_data_LogisticRegression['ID']\n",
    "del train_data_LogisticRegression['Gene']\n",
    "del train_data_LogisticRegression['Variation']\n",
    "del train_data_LogisticRegression['LenText']\n",
    "del train_data_LogisticRegression['Text_count']\n",
    "del test_data_LogisticRegression['ID']\n",
    "del test_data_LogisticRegression['Gene']\n",
    "del test_data_LogisticRegression['Variation']\n",
    "del test_data_LogisticRegression['LenText']\n",
    "del test_data_LogisticRegression['Text_count']"
   ]
  },
  {
   "cell_type": "code",
   "execution_count": 79,
   "metadata": {
    "collapsed": true
   },
   "outputs": [],
   "source": [
    "train_text_LogisticRegression=train_data_LogisticRegression.TEXT.tolist()\n",
    "test_text_LogisticRegression=test_data_LogisticRegression.TEXT.tolist()"
   ]
  },
  {
   "cell_type": "markdown",
   "metadata": {},
   "source": [
    "### Preprocessing on Text Data"
   ]
  },
  {
   "cell_type": "code",
   "execution_count": 80,
   "metadata": {
    "collapsed": true
   },
   "outputs": [],
   "source": [
    "def removeSpecialCharcters(data):\n",
    "    for i in range (len(data)):\n",
    "        for k in data[i].split(\"\\n\"):\n",
    "            data[i]=re.sub(r\"[^a-zA-Z0-9]+\", ' ', k)\n",
    "def removeStopWords(data):\n",
    "    stop=set(stopwords.words(\"english\"))\n",
    "    stop.update((u'fig','1','figure'))\n",
    "    stop.update(str(i) for i in range(2,100))\n",
    "    for i in range(len(data)):\n",
    "        words=[]\n",
    "        for k in data[i].split(\" \"):\n",
    "            words.append(k)\n",
    "        s=\"\"\n",
    "        for w in words:\n",
    "            if (w.lower()) not in stop:\n",
    "                s=s+\" \"+w\n",
    "        data[i]=s"
   ]
  },
  {
   "cell_type": "code",
   "execution_count": 81,
   "metadata": {
    "collapsed": true
   },
   "outputs": [],
   "source": [
    "removeSpecialCharcters(train_text_LogisticRegression)\n",
    "removeSpecialCharcters(test_text_LogisticRegression)"
   ]
  },
  {
   "cell_type": "code",
   "execution_count": 82,
   "metadata": {
    "collapsed": true
   },
   "outputs": [],
   "source": [
    "removeStopWords(train_text_LogisticRegression)\n",
    "removeStopWords(test_text_LogisticRegression)"
   ]
  },
  {
   "cell_type": "code",
   "execution_count": 83,
   "metadata": {},
   "outputs": [
    {
     "name": "stdout",
     "output_type": "stream",
     "text": [
      "[' Cyclin dependent kinases CDKs regulate variety fundamental cellular processes CDK10 stands one last orphan CDKs activating cyclin identified kinase activity revealed Previous work shown CDK10 silencing increases ETS2 v ets erythroblastosis virus E26 oncogene homolog driven activation MAPK pathway confers tamoxifen resistance breast cancer cells precise mechanisms CDK10 modulates ETS2 activity generally functions CDK10 remain elusive demonstrate CDK10 cyclin dependent kinase identifying cyclin activating cyclin Cyclin orphan cyclin product FAM58A whose mutations cause STAR syndrome human developmental anomaly whose features include toe syndactyly telecanthus anogenital renal malformations show STAR syndrome associated cyclin mutants unable interact CDK10 Cyclin silencing phenocopies CDK10 silencing increasing c Raf conferring tamoxifen resistance breast cancer cells CDK10 cyclin phosphorylates ETS2 vitro cells positively controls ETS2 degradation proteasome ETS2 protein levels increased cells derived STAR patient increase attributable decreased cyclin levels Altogether results reveal additional regulatory mechanism ETS2 plays key roles cancer development also shed light molecular mechanisms underlying STAR syndrome Cyclin dependent kinases CDKs play pivotal role control number fundamental cellular processes human genome contains genes encoding proteins considered members CDK family owing sequence similarity bona fide CDKs known activated cyclins Although discovered almost ago CDK10 remains one two CDKs without identified cyclin partner knowledge gap largely impeded exploration biological functions CDK10 act positive cell cycle regulator cells tumor suppressor others CDK10 interacts ETS2 v ets erythroblastosis virus E26 oncogene homolog transcription factor inhibits transcriptional activity unknown mechanism CDK10 knockdown derepresses ETS2 increases expression c Raf protein kinase activates MAPK pathway induces resistance MCF7 cells tamoxifen deorphanize CDK10 identifying cyclin product FAM58A binding partner Mutations gene predict absence truncation cyclin associated STAR syndrome whose features include toe syndactyly telecanthus anogenital renal malformations heterozygous females However functions cyclin pathogenesis STAR syndrome remain unknown show recombinant CDK10 cyclin heterodimer active protein kinase phosphorylates ETS2 vitro Cyclin silencing phenocopies CDK10 silencing increasing c Raf phospho ERK expression levels inducing tamoxifen resistance estrogen receptor ER breast cancer cells show CDK10 cyclin positively controls ETS2 degradation proteasome phosphorylation two neighboring serines Finally detect increased ETS2 expression level cells derived STAR patient demonstrate attributable decreased cyclin expression level observed cells Previous SectionNext SectionResultsA yeast two hybrid Y2H screen unveiled interaction signal CDK10 mouse protein whose C terminal half presents strong sequence homology human FAM58A gene product whose proposed name cyclin thus performed Y2H mating assays determine whether human CDK10 interacts human cyclin C longest CDK10 isoform P1 expressed bait protein produced strong interaction phenotype full length cyclin expressed prey protein detectable phenotype cyclin D1 p21 CIP1 Cdi1 KAP known binding partners CDKs 1B CDK1 CDK3 also produced Y2H signals cyclin albeit notably weaker observed CDK10 1B interaction phenotype also observed full length cyclin CDK10 proteins expressed bait prey respectively S1A tested different isoforms CDK10 cyclin originating alternative gene splicing two truncated cyclin proteins corresponding hypothetical products two mutated FAM58A genes found STAR syndrome patients None shorter isoforms produced interaction phenotypes C S1A new window Download PPTFig CDK10 cyclin form interaction complex Schematic representation different protein isoforms analyzed Y2H assays Amino acid numbers indicated Black boxes indicate internal deletions red box indicates differing amino acid sequence compared CDK10 P1 B Y2H assay set CDK proteins expressed baits fusion LexA DNA binding domain CDK interacting proteins expressed preys fusion B42 transcriptional activator pEG202 pJG4 empty bait prey plasmids expressing LexA B42 respectively lacZ used reporter gene blue yeast indicative Y2H interaction phenotype C Y2H assay different CDK10 cyclin isoforms amino terminal region ETS2 known interact CDK10 also assayed Western blot analysis Myc CDK10 wt kd CycM V5 6His expression levels transfected HEK293 cells E Western blot analysis Myc CDK10 wt kd immunoprecipitates obtained using anti Myc antibody Inputs correspond g total lysates obtained HEK293 cells coexpressing Myc CDK10 wt kd CycM V5 6His F Western blot analysis immunoprecipitates obtained using anti CDK10 antibody control goat antibody human breast cancer MCF7 cells Input corresponds g MCF7 total cell lysates lower band doublet observed upper panel comigrates exogenously expressed untagged CDK10 thus corresponds endogenous CDK10 upper band doublet corresponds nonspecific signal demonstrated insensitivity either overexpression CDK10 seen left lane silencing CDK10 S2B Another experiment longer gel migration shown S1D Next examined ability CDK10 cyclin interact expressed human cells E tested wild type CDK10 wt kinase dead kd mutant bearing D181A amino acid substitution abolishes ATP binding expressed cyclin V5 6His Myc CDK10 wt kd human embryonic kidney cell line HEK293 expression level cyclin V5 6His significantly increased upon coexpression Myc CDK10 wt kd lesser extent Myc CDK10 wt kd increased upon coexpression cyclin V5 6His 1D immunoprecipitated Myc CDK10 proteins detected presence cyclin CDK10 wt kd immunoprecipitates proteins coexpressed pair wise 1E confirmed observations detecting presence Myc CDK10 cyclin V5 6His immunoprecipitates S1B experiments confirmed lack robust interaction CDK10 P2 isoform cyclin S1C detect interaction endogenous proteins performed immunoprecipitations nontransfected MCF7 cells derived human breast cancer CDK10 cyclin antibodies detected cognate endogenous proteins Western blotting readily detected cyclin immunoprecipitates obtained CDK10 antibody control antibody 1F results confirm physical interaction CDK10 cyclin human cells unveil hypothesized CDK10 cyclin protein kinase activity produced GST CDK10 StrepII cyclin fusion proteins insect cells either individually combination observed GST CDK10 StrepII cyclin copurified thus confirming interaction yet another cellular model 2A performed vitro kinase assays purified proteins using histone H1 generic substrate Histone H1 phosphorylation detected lysates cells coexpressing GST CDK10 StrepII cyclin phosphorylation detected GST CDK10 StrepII cyclin expressed alone StrepII cyclin coexpressed GST CDK10 kd 2A Next investigated whether ETS2 known interact CDK10 1C phosphorylation substrate CDK10 cyclin detected strong phosphorylation ETS2 GST CDK10 StrepII cyclin purified heterodimer whereas phosphorylation detected using GST CDK10 alone GST CDK10 kd StrepII cyclin heterodimer 2B new window Download PPTFig CDK10 cyclin dependent protein kinase vitro protein kinase assay histone H1 Lysates insect cells expressing different proteins purified glutathione Sepharose matrix capture GST CDK10 wt kd fusion proteins alone complex STR CycM fusion protein Purified protein expression levels analyzed Western blots Top Upper Middle kinase activity determined autoradiography histone H1 whose added amounts visualized Coomassie staining Lower Middle Bottom B using purified recombinant 6His ETS2 substrate CDK10 silencing shown increase ETS2 driven c RAF transcription activate MAPK pathway investigated whether cyclin also involved regulatory pathway aim highly specific silencing used siRNA pools mix four different siRNAs low final concentration nM CDK10 cyclin siRNA pools silenced expression cognate targets C S2 interestingly cyclin siRNA pool also caused marked decrease CDK10 protein level 3A S2B results shown 1D suggest cyclin binding stabilizes CDK10 Cyclin silencing induced increase c Raf protein mRNA levels B C phosphorylated ERK1 ERK2 protein levels S3B similarly CDK10 silencing expected effects CDK10 cyclin silencing decreased sensitivity ER MCF7 cells tamoxifen similar extent combined silencing genes result higher resistance drug S3C Altogether observations demonstrate functional interaction cyclin CDK10 negatively controls ETS2 new window Download PPTFig Cyclin silencing regulates c Raf expression Western blot analysis endogenous CDK10 cyclin expression levels MCF7 cells response siRNA mediated gene silencing B Western blot analysis endogenous c Raf expression levels MCF7 cells response CDK10 cyclin silencing quantification shown S3A C Quantitative RT PCR analysis CDK10 cyclin c Raf mRNA levels response CDK10 Upper cyclin Lower silencing P 0 01 P 0 001 wished explore mechanism CDK10 cyclin controls ETS2 ETS2 short lived protein degraded proteasome straightforward hypothesis CDK10 cyclin positively controls ETS2 degradation thus examined impact CDK10 cyclin silencing ETS2 expression levels silencing CDK10 cyclin caused increase expression levels exogenously expressed Flag ETS2 protein S4A well endogenous ETS2 protein 4A increase attributable increased ETS2 mRNA levels marginally fluctuated response CDK10 cyclin silencing S4B examined expression levels Flag tagged ETS2 protein expressed alone combination Myc CDK10 CDK10 kd without cyclin V5 6His Flag ETS2 readily detected expressed alone lesser extent coexpressed CDK10 kd However expression level dramatically decreased coexpressed CDK10 alone CDK10 cyclin 4B observations suggest endogenous cyclin levels excess compared CDK10 MCF7 cells show major decrease ETS2 levels observed upon CDK10 coexpression involves CDK10 kinase activity Treatment cells coexpressing Flag ETS2 CDK10 cyclin proteasome inhibitor MG132 largely rescued Flag ETS2 expression levels 4B new window Download PPTFig CDK10 cyclin controls ETS2 stability human cancer derived cells Western blot analysis endogenous ETS2 expression levels MCF7 cells response siRNA mediated CDK10 cyclin silencing quantification shown S4B B Western blot analysis exogenously expressed Flag ETS2 protein levels MCF7 cells cotransfected empty vectors coexpressing Myc CDK10 wt kd Myc CDK10 CycM V5 6His latter cells treated h MG132 proteasome inhibitor Proper expression CDK10 cyclin tagged proteins verified Western blot analysis C Western blot analysis expression levels exogenously expressed Flag ETS2 wild type mutant proteins MCF7 cells absence C response Myc CDK10 CycM V5 6His expression Quantifications shown S4 C mass spectrometry analysis recombinant ETS2 phosphorylated CDK10 cyclin vitro revealed existence multiple phosphorylated residues among two neighboring phospho serines positions 220 225 may form phosphodegron Figs S5 S8 confirm finding compared phosphorylation level recombinant ETS2wt ETS2SASA protein mutant bearing alanine substitutions two serines expected existence multiple phosphorylation sites detected small reproducible significant decrease phosphorylation level ETS2SASA compared ETS2wt S9 thus confirming Ser220 Ser225 phosphorylated CDK10 cyclin establish direct link ETS2 phosphorylation CDK10 cyclin degradation examined expression levels Flag ETS2SASA absence CDK10 cyclin coexpression differ significantly Flag ETS2 contrary Flag ETS2DBM bearing deletion N terminal destruction box previously shown involved APC Cdh1 mediated degradation ETS2 4C However contrary Flag ETS2 wild type expression level Flag ETS2SASA remained insensitive CDK10 cyclin coexpression 4D Altogether results suggest CDK10 cyclin directly controls ETS2 degradation phosphorylation two serines Finally studied lymphoblastoid cell line derived patient STAR syndrome bearing FAM58A mutation c 555 1G predicted result aberrant splicing accordance incomplete skewing X chromosome inactivation previously found patient detected decreased expression level cyclin protein STAR cell line compared control lymphoblastoid cell line line preceding observations detected increased expression level ETS2 protein STAR cell line compared control 5A S10A examined quantitative RT PCR mRNA expression levels corresponding genes STAR cell line showed decreased expression level cyclin mRNA expression level ETS2 mRNA similar control cell line 5B demonstrate increase ETS2 protein expression indeed result decreased cyclin expression observed STAR patient derived cell line expressed cyclin V5 6His cell line expression caused decrease ETS2 protein levels 5C new window Download PPTFig Decreased cyclin expression STAR patient derived cells results increased ETS2 protein level Western blot analysis cyclin ETS2 protein levels STAR patient derived lymphoblastoid cell line control lymphoblastoid cell line derived healthy individual quantification shown S10A B Quantitative RT PCR analysis cyclin ETS2 mRNA levels cells P 0 001 C Western blot analysis ETS2 protein levels STAR patient derived lymphoblastoid cell line transfected empty vector vector directing expression cyclin V5 6His Another Western blot revealing endogenously exogenously expressed cyclin levels shown S10B quantification ETS2 protein levels shown S10C Previous SectionNext SectionDiscussionIn work unveil interaction CDK10 last orphan CDK discovered pregenomic era cyclin cyclin associated human genetic disease far whose functions remain unknown closest paralogs CDK10 within CDK family CDK11 proteins interact L type cyclins Interestingly closest paralog cyclins within cyclin family cyclin S11 fact none shorter CDK10 isoforms interact robustly cyclin suggests alternative splicing CDK10 gene plays important role regulating CDK10 functions functional relevance interaction CDK10 cyclin supported different observations proteins seem enhance stability judged increased expression levels partner exogenously coexpressed 1D much reduced endogenous CDK10 expression level observed response cyclin silencing 3A S2B CDK10 subject ubiquitin mediated degradation observations suggest cyclin protects CDK10 degradation cyclin partner CDK10 least MCF7 cells also suggest cyclin stability enhanced upon binding CDK10 independently kinase activity seen cyclin C CDK8 uncover cyclin dependent CDK10 protein kinase activity vitro thus demonstrating protein named CDK sole basis amino acid sequence indeed genuine cyclin dependent kinase Y2H assays reveal truncated cyclin proteins corresponding hypothetical products two STAR syndrome associated FAM58A mutations produce interaction phenotype CDK10 Hence regardless whether mutated mRNAs undergo nonsense mediated decay suggested decreased cyclin mRNA levels STAR cells shown 5B give rise truncated cyclin proteins females affected STAR syndrome must exhibit compromised CDK10 cyclin kinase activity least tissues specific developmental stages show ETS2 known interactor CDK10 phosphorylation substrate CDK10 cyclin vitro CDK10 cyclin kinase activity positively controls ETS2 degradation proteasome control seems exerted fine mechanism judged sensitivity ETS2 levels partially decreased CDK10 cyclin levels achieved MCF7 cells observed STAR cells respectively findings offer straightforward explanation already reported regulation ETS2 driven transcription c RAF response CDK10 silencing bring evidence CDK10 cyclin directly controls ETS2 degradation phosphorylation two neighboring serines may form noncanonical TRCP phosphodegron DSMCPAS none two serines precede proline conform usual CDK phosphorylation sites However multiple called transcriptional CDKs CDK7 CDK10 may belong S11 shown phosphorylate variety motifs non proline directed fashion especially context molecular docking substrate hypothesized high affinity interaction CDK10 Pointed domain ETS2 1C would allow docking mediated phosphorylation atypical sites control ETS2 degradation involves number players including APC Cdh1 cullin RING ligase CRL4 formal identification ubiquitin ligase involved CDK10 cyclin pathway elucidation concerted action ubiquitin ligases regulate ETS2 degradation require studies results present number significant biological medical implications First shed light regulation ETS2 plays important role development frequently deregulated many cancers Second results contribute understanding molecular mechanisms causing tamoxifen resistance associated reduced CDK10 expression levels suggest like CDK10 cyclin could also predictive clinical marker hormone therapy response ER positive breast cancer patients Third findings offer interesting hypothesis molecular mechanisms underlying STAR syndrome Ets2 transgenic mice showing less twofold overexpression Ets2 present severe cranial abnormalities observed STAR patients could thus caused least part increased ETS2 protein levels Another expected consequence enhanced ETS2 expression levels would decreased risk develop certain types cancers increased risk develop others Studies various mouse models including models syndrome three copies ETS2 exist revealed ETS2 dosage repress promote tumor growth hence ETS2 exerts noncell autonomous functions cancer Intringuingly one STAR patients identified far diagnosed nephroblastoma Finally findings facilitate general exploration biological functions CDK10 particular role control cell division Previous studies suggested either positive role cell cycle control tumor suppressive activity cancers severe growth retardation exhibited STAR patients strongly suggests CDK10 cyclin plays important role control cell proliferation Previous SectionNext SectionMaterials MethodsCloning CDK10 cyclin cDNAs plasmid constructions tamoxifen response analysis quantitative RT PCR mass spectrometry experiments antibody production detailed SI Materials Methods Yeast Two Hybrid Interaction Assays performed yeast interaction mating assays previously described Mammalian Cell Cultures Transfections grew human HEK293 MCF7 cells DMEM supplemented vol vol FBS Invitrogen grew lymphoblastoid cells RPMI 1640 GlutaMAX supplemented vol vol FBS transfected HEK293 MCF7 cells using Lipofectamine 2000 Invitrogen plasmids Lipofectamine RNAiMAX Invitrogen siRNAs Jetprime Polyplus plasmids siRNAs combinations according manufacturers instructions transfected lymphoblastoid cells electroporation Neon Invitrogen ETS2 stability studies treated MCF7 cells h transfection MG132 Fisher Scientific h Coimmunoprecipitation Western Blot Experiments collected cells scraping PBS centrifugation lymphoblastoid cells lysed sonication lysis buffer containing mM glycerophosphate mM p nitrophenylphosphate mM N morpholino propanesulfonic acid Mops pH mM EGTA mM MgCl2 mM Na vanadate mM NaF 1mM phenylphosphate 0 Nonidet P protease inhibitor mixture Roche spun lysates min 000 g C collected supernatants determined protein content using Bradford assay performed immunoprecipitation experiments 500 g total proteins lysis buffer precleared lysates L protein G agarose beads incubated h C rotating wheel added g antibody supernatants incubated h C rotating wheel added L protein G agarose beads incubated h C rotating wheel collected beads centrifugation 000 g C washed three times bead buffer containing mM Tris pH mM NaF 250 mM NaCl mM EDTA mM EGTA 0 Nonidet P protease inhibitor coktail Roche directly added sample buffer washed pellets heat denatured proteins ran samples Bis Tris SDS PAGE transferred proteins onto Hybond nitrocellulose membranes processed blots according standard procedures Western blot experiments used following primary antibodies anti Myc Abcam ab9106 000 anti V5 Invitrogen R960 000 anti tubulin Santa Cruz Biotechnology B 500 anti CDK10 Covalab pab0847p 500 Santa Cruz Biotechnology C 500 anti CycM home made dilution 500 Covalab pab0882 P dilution 500 anti Raf1 Santa Cruz Biotechnology C 000 anti ETS2 Santa Cruz Biotechnology C 000 anti Flag Sigma F7425 000 anti actin Sigma A5060 000 used HRP coupled anti goat Santa Cruz Biotechnology SC 2033 dilution 000 anti mouse Bio Rad 170 6516 dilution 000 anti rabbit Bio Rad 172 1019 000 secondary antibodies revealed blots enhanced chemiluminescence SuperSignal West Femto Thermo Scientific Production Purification Recombinant Proteins GST CDK10 kd StrepII CycM generated recombinant bacmids DH10Bac Escherichia coli baculoviruses Sf9 cells using Bac Bac system described provider Invitrogen infected Sf9 cells GST CDK10 GST CDK10kd producing viruses coinfected cells StrepII CycM producing viruses collected cells h infection purify GST fusion proteins spun 250 mL cells resuspended pellet mL lysis buffer PBS 250 mM NaCl 0 Nonidet P mM NaF mM glycerophosphate 0 mM Na vanadate containing protease inhibitor mixture Roche lysed cells sonication spun lysate min 000 g collected soluble fraction added mL glutathione Sepharose matrix incubated h C washed four times lysis buffer one time kinase buffer see finally resuspended beads 100 L kinase buffer containing vol vol glycerol storage 6His ETS2 transformed Origami2 DE3 Novagen 6His ETS2 expression vector induced expression 0 mM isopropyl thiogalactopyranoside h C purify 6His ETS2 spun mL cells resuspended pellet mL lysis buffer PBS 300 mM NaCl mM Imidazole mM DTT 0 Nonidet P containing protease inhibitor mixture without EDTA Roche lysed cells bar using cell disruptor spun lysate min 000 g collected soluble fraction added 200 L Cobalt beads Thermo Scientific h incubation C rotating wheel washed four times lysis buffer elute incubated beads min elution buffer PBS 250 mM imidazole pH containing protease inhibitor mixture spun 000 g collected eluted protein Protein Kinase Assays mixed glutathione Sepharose beads harboring GST CDK10 wt kd either monomeric complexed StrepII CycM BSA mM DTT 100 ATP Ci ATP 32P histone H1 6His ETS2 added kinase buffer mM Tris HCl mM MgCl2 mM EGTA mM DTT heparin pH total volume L incubated reactions min C added Laemli sample buffer heat denatured samples ran Bis Tris SDS PAGE cut gel slices detect GST CDK10 StrepII CycM Western blotting stained gel slices containing substrate Coomassie R 250 Bio Rad dried detected incorporated radioactivity autoradiography identified four unrelated girls anogenital renal malformations dysmorphic facial features normal intellect syndactyly toes similar combination features reported previously mother daughter pair1 Table Supplementary Note online authors noted clinical overlap Townes Brocks syndrome suggested phenotype represented separate autosomal dominant entity MIM601446 define cardinal features syndrome characteristic facial appearance apparent telecanthus broad tripartite nasal tip variable syndactyly toes hypoplastic labia anal atresia urogenital malformations 1a h also observed variety features Table Clinical molecular characterization STAR syndrome Clinical molecular characterization STAR syndrome f Facial appearances cases apparent telecanthus dysplastic ears thin upper lips c e toe syndactyly b f cases illustrate recognizable features STAR syndrome specific parental consent obtained publication photographs Anal atresia hypoplastic labia shown g h X ray films feet case showing four rays left delta shaped 4th 5th metatarsals right h compare clinical picture Array CGH data Log2 ratio represents copy number loss six probes spanning kb one probe positioned within FAM58A deletion remove parts functional genes j Schematic structure FAM58A position mutations FAM58A five coding exons boxes cyclin domain green encoded exons horizontal arrow indicates deletion extending case includes exons whereas horizontal line exon indicates deletion found case removes exon sequence pink horizontal bars boxes indicate amplicons used qPCR sequencing one alternative exon amplicon indicated space constraints mutation 201dupT case results immediate stop codon 555 1G 555 1G splice mutations cases predicted deleterious alter conserved splice donor acceptor site intron respectively Full size image KB Table Clinical features STAR syndrome cases Table Clinical features STAR syndrome cases Full table basis phenotypic overlap Townes Brocks Okihiro Feingold syndromes analyzed SALL1 ref SALL4 ref MYCN4 found mutations genes Supplementary Methods online Next carried genome wide high resolution oligonucleotide array comparative genomic hybridization CGH analysis Supplementary Methods genomic DNA severely affected individual case lower lid coloboma epilepsy syringomyelia identified heterozygous deletion kb Xq28 removed exons FAM58A 1i j Using real time PCR confirmed deletion child excluded unaffected parents Supplementary 1a online Supplementary Methods Supplementary Table online CGH customized oligonucleotide array enriched probes Xq28 followed breakpoint cloning defined exact deletion size 068 bp g 152 514 164 152 554 231del chromosome X NCBI Build 1j Supplementary Figs online deletion removes coding regions exons well intron 774 bp 492 bp intron 608 bp sequence including UTR entire KRT18P48 pseudogene NCBI gene ID 340598 Paternity proven using routine methods find deletions overlapping FAM58A available copy number variation CNV databases Subsequently carried qPCR analysis three affected individuals cases mother daughter pair literature cases case detected de novo heterozygous deletion kb overlapping exon Supplementary 1b online Using Xq28 targeted array CGH breakpoint cloning identified deletion 249 bp g 152 504 123 152 508 371del chromosome X NCBI Build 1j Supplementary Figs removed 265 bp intron exon including UTR 454 bp sequence found heterozygous FAM58A point mutations remaining cases 1j Supplementary Supplementary Methods Supplementary Table case identified mutation 555 1G affecting splice donor site intron case identified frameshift mutation 201dupT immediately results premature stop codon N68XfsX1 cases detected mutation 556 1G alters splice acceptor site intron validated point mutations deletions independent rounds PCR sequencing qPCR confirmed paternity de novo status point mutations deletions sporadic cases None mutations seen DNA unaffected female controls larger deletions involving FAM58A found unrelated array CGH investigations analyzing X chromosome inactivation Supplementary Methods Supplementary online found complete skewing X inactivation cases almost complete skewing case suggesting cells carrying mutation active X chromosome growth disadvantage fetal development Using RT PCR RNA lymphoblastoid cells case Supplementary find aberrant splice products additional evidence mutated allele inactivated Furthermore FAM58A subjected X inactivation6 cases parental origin deletions could determined result lack informative SNPs Case mother case gave birth two boys clinically unaffected samples available cannot exclude condition lethal males fetal losses reported families function FAM58A unknown gene consists five coding exons 642 bp coding region encodes protein 214 amino acids GenBank lists mRNA length 257 bp reference sequence NM 152274 Expression gene EST data found adult tissues including kidney colon cervix uterus heart NCBI expression viewer UniGene Hs 496943 Expression also noted listed tumor tissues well embryo fetus Genes homologous FAM58A NCBI HomoloGene 13362 found X chromosome chimpanzee dog zebrafish similar gene chromosome However mouse rat true homologs species similar intronless genes chromosomes mouse rat likely arising retrotransposon insertion event murine X chromosome flanking genes Atp2b3 Dusp9 conserved remnants FAM58A sequence detected FAM58A contains cyclin box fold domain protein binding domain found cyclins role cell cycle transcription control human phenotype resulting cyclin gene mutation yet reported Homozygous knockout mice Ccnd1 encoding cyclin D1 viable small reduced lifespan also dystrophic changes retina likely result decreased cell proliferation degeneration photoreceptor cells embryogenesis7 Cyclin D1 colocalizes SALL4 nucleus proteins cooperatively mediate transcriptional repression9 phenotype cases overlaps considerably Townes Brocks syndrome caused SALL1 mutations1 carried co immunoprecipitation find SALL1 SALL4 would interact FAM58A manner similar observed SALL4 cyclin D1 found FAM58A interacts SALL1 SALL4 Supplementary online supporting hypothesis FAM58A SALL1 participate developmental pathway FAM58A mutations lead STAR syndrome Growth retardation cases Table retinal abnormalities three cases reminiscent reduced body size retinal anomalies cyclin D1 knockout mice7 Therefore proliferation defect might partly responsible STAR syndrome address question carried knockdown FAM58A mRNA followed proliferation assay Transfection HEK293 cells three different FAM58A specific RNAi oligonucleotides resulted significant reduction FAM58A mRNA expression proliferation transfected cells Supplementary Methods Supplementary online supporting link FAM58A cell proliferation found loss function mutations FAM58A result rather homogeneous clinical phenotype additional anomalies case likely result effect kb deletion expression neighboring gene possibly ATP2B3 DUSP9 However cannot exclude homogeneous phenotype results ascertainment bias FAM58A mutations including missense changes could result broader spectrum malformations genes causing overlapping phenotypes STAR syndrome Townes Brocks syndrome seem act pathway note MYCN gene mutated Feingold syndrome direct regulator cyclin D2 refs thus worth exploring whether phenotypic similarities Feingold STAR syndrome might explained direct regulation FAM58A MYCN FAM58A located approximately 0 Mb centromeric MECP2 Xq28 Duplications overlapping MECP2 FAM58A described associated clinical phenotype females12 deletions overlapping MECP2 FAM58A observed date13 Although genes FAM58A MECP2 implicated brain development FAM58A MECP2 genes region known result X linked dominant phenotypes thus deletion genes allele might lethal males females ']\n"
     ]
    }
   ],
   "source": [
    "print train_text_LogisticRegression[:1]"
   ]
  },
  {
   "cell_type": "code",
   "execution_count": 84,
   "metadata": {
    "scrolled": true
   },
   "outputs": [
    {
     "data": {
      "text/plain": [
       "<2330x122736 sparse matrix of type '<type 'numpy.int64'>'\n",
       "\twith 3532005 stored elements in Compressed Sparse Row format>"
      ]
     },
     "execution_count": 84,
     "metadata": {},
     "output_type": "execute_result"
    }
   ],
   "source": [
    "from sklearn.feature_extraction.text import CountVectorizer\n",
    "vectorizer = CountVectorizer() \n",
    "train_data_features = vectorizer.fit_transform(train_text_LogisticRegression)\n",
    "train_data_features"
   ]
  },
  {
   "cell_type": "code",
   "execution_count": 85,
   "metadata": {
    "collapsed": true
   },
   "outputs": [],
   "source": [
    "test_data_features=vectorizer.transform(test_text_LogisticRegression)"
   ]
  },
  {
   "cell_type": "code",
   "execution_count": 86,
   "metadata": {},
   "outputs": [
    {
     "data": {
      "text/plain": [
       "LogisticRegression(C=1.0, class_weight='balanced', dual=False,\n",
       "          fit_intercept=True, intercept_scaling=1, max_iter=100,\n",
       "          multi_class='ovr', n_jobs=1, penalty='l1', random_state=None,\n",
       "          solver='liblinear', tol=0.0001, verbose=0, warm_start=False)"
      ]
     },
     "execution_count": 86,
     "metadata": {},
     "output_type": "execute_result"
    }
   ],
   "source": [
    "\n",
    "from sklearn.linear_model import LogisticRegression\n",
    "lr_clf= LogisticRegression(penalty='l1',class_weight='balanced')\n",
    "lr_clf.fit(train_data_features,train_data_LogisticRegression.Class)\n"
   ]
  },
  {
   "cell_type": "code",
   "execution_count": 87,
   "metadata": {
    "collapsed": true
   },
   "outputs": [],
   "source": [
    "\n",
    "target_predicted_Log_Reg=lr_clf.predict(test_data_features)"
   ]
  },
  {
   "cell_type": "code",
   "execution_count": 88,
   "metadata": {},
   "outputs": [
    {
     "name": "stdout",
     "output_type": "stream",
     "text": [
      "0.3824419778\n"
     ]
    }
   ],
   "source": [
    "\n",
    "print metrics.accuracy_score(test_data_LogisticRegression.Class,target_predicted_Log_Reg)"
   ]
  },
  {
   "cell_type": "code",
   "execution_count": 89,
   "metadata": {},
   "outputs": [
    {
     "data": {
      "image/png": "[encoded data removed]",
      "text/plain": [
       "<matplotlib.figure.Figure at 0x8d47fbe0>"
      ]
     },
     "metadata": {},
     "output_type": "display_data"
    }
   ],
   "source": [
    "logistic_l1_confusionmatrix= metrics.confusion_matrix(test_data_LogisticRegression.Class,target_predicted_Log_Reg)\n",
    "sns.heatmap(logistic_l1_confusionmatrix,annot=True,fmt='d')\n",
    "plt.show()"
   ]
  },
  {
   "cell_type": "markdown",
   "metadata": {},
   "source": [
    "## Applying Multinomial Naive Baye's On Text"
   ]
  },
  {
   "cell_type": "code",
   "execution_count": 90,
   "metadata": {},
   "outputs": [
    {
     "data": {
      "text/plain": [
       "MultinomialNB(alpha=1.0, class_prior=None, fit_prior=True)"
      ]
     },
     "execution_count": 90,
     "metadata": {},
     "output_type": "execute_result"
    }
   ],
   "source": [
    "from sklearn.naive_bayes import MultinomialNB\n",
    "nb=MultinomialNB()\n",
    "nb.fit(train_data_features,train_data.Class)"
   ]
  },
  {
   "cell_type": "code",
   "execution_count": 91,
   "metadata": {
    "collapsed": true
   },
   "outputs": [],
   "source": [
    "target_predicted_NaiveBayes=nb.predict(test_data_features)"
   ]
  },
  {
   "cell_type": "code",
   "execution_count": 92,
   "metadata": {},
   "outputs": [
    {
     "data": {
      "text/plain": [
       "0.41170534813319881"
      ]
     },
     "execution_count": 92,
     "metadata": {},
     "output_type": "execute_result"
    }
   ],
   "source": [
    "metrics.accuracy_score(test_data.Class,target_predicted_NaiveBayes)"
   ]
  },
  {
   "cell_type": "code",
   "execution_count": 93,
   "metadata": {
    "collapsed": true
   },
   "outputs": [],
   "source": [
    "naiveBayes_confusionmatrix=metrics.confusion_matrix(test_data.Class,target_predicted_NaiveBayes)"
   ]
  },
  {
   "cell_type": "code",
   "execution_count": 94,
   "metadata": {},
   "outputs": [
    {
     "data": {
      "image/png": "[encoded data removed]",
      "text/plain": [
       "<matplotlib.figure.Figure at 0x85305d68>"
      ]
     },
     "metadata": {},
     "output_type": "display_data"
    }
   ],
   "source": [
    "sns.heatmap(logistic_l1_confusionmatrix,annot=True,fmt='d')\n",
    "plt.show()"
   ]
  },
  {
   "cell_type": "markdown",
   "metadata": {},
   "source": [
    "## Linear Svc on Text Data"
   ]
  },
  {
   "cell_type": "code",
   "execution_count": 95,
   "metadata": {},
   "outputs": [
    {
     "data": {
      "text/plain": [
       "LinearSVC(C=1.0, class_weight='balanced', dual=True, fit_intercept=True,\n",
       "     intercept_scaling=1, loss='squared_hinge', max_iter=1000,\n",
       "     multi_class='ovr', penalty='l2', random_state=None, tol=0.0001,\n",
       "     verbose=0)"
      ]
     },
     "execution_count": 95,
     "metadata": {},
     "output_type": "execute_result"
    }
   ],
   "source": [
    "from sklearn.svm import LinearSVC\n",
    "svc_Linear=LinearSVC(class_weight='balanced')\n",
    "svc_Linear.fit(train_data_features,train_data.Class)"
   ]
  },
  {
   "cell_type": "code",
   "execution_count": 96,
   "metadata": {
    "collapsed": true
   },
   "outputs": [],
   "source": [
    "predicted_svc_Linear=svc_Linear.predict(test_data_features)"
   ]
  },
  {
   "cell_type": "code",
   "execution_count": 97,
   "metadata": {},
   "outputs": [
    {
     "data": {
      "text/plain": [
       "0.38647830474268413"
      ]
     },
     "execution_count": 97,
     "metadata": {},
     "output_type": "execute_result"
    }
   ],
   "source": [
    "metrics.accuracy_score(test_data.Class,predicted_svc_Linear)"
   ]
  },
  {
   "cell_type": "code",
   "execution_count": 98,
   "metadata": {
    "collapsed": true
   },
   "outputs": [],
   "source": [
    "confusionmatrix_svc_Linear=metrics.confusion_matrix(test_data.Class,predicted_svc_Linear)\n"
   ]
  },
  {
   "cell_type": "code",
   "execution_count": 99,
   "metadata": {},
   "outputs": [
    {
     "data": {
      "image/png": "[encoded data removed]",
      "text/plain": [
       "<matplotlib.figure.Figure at 0x856cd400>"
      ]
     },
     "metadata": {},
     "output_type": "display_data"
    }
   ],
   "source": [
    "plt.figure()\n",
    "sns.heatmap(confusionmatrix_svc_Linear,annot=True,fmt='d')\n",
    "plt.show()"
   ]
  },
  {
   "cell_type": "markdown",
   "metadata": {},
   "source": [
    "## Applying RBF SVM"
   ]
  },
  {
   "cell_type": "code",
   "execution_count": 100,
   "metadata": {},
   "outputs": [
    {
     "data": {
      "text/plain": [
       "SVC(C=10000.0, cache_size=200, class_weight='balanced', coef0=0.0,\n",
       "  decision_function_shape=None, degree=3, gamma='auto', kernel='rbf',\n",
       "  max_iter=-1, probability=False, random_state=None, shrinking=True,\n",
       "  tol=0.001, verbose=False)"
      ]
     },
     "execution_count": 100,
     "metadata": {},
     "output_type": "execute_result"
    }
   ],
   "source": [
    "from sklearn.svm import SVC\n",
    "svc_RBF=SVC(C=10000.0,class_weight='balanced')\n",
    "svc_RBF.fit(train_data_features,train_data.Class)"
   ]
  },
  {
   "cell_type": "code",
   "execution_count": 101,
   "metadata": {},
   "outputs": [
    {
     "data": {
      "text/plain": [
       "0.42785065590312815"
      ]
     },
     "execution_count": 101,
     "metadata": {},
     "output_type": "execute_result"
    }
   ],
   "source": [
    "predicted_svc_RBF=svc_RBF.predict(test_data_features)\n",
    "metrics.accuracy_score(test_data.Class,predicted_svc_RBF)"
   ]
  },
  {
   "cell_type": "code",
   "execution_count": 102,
   "metadata": {},
   "outputs": [
    {
     "data": {
      "image/png": "[encoded data removed]",
      "text/plain": [
       "<matplotlib.figure.Figure at 0x85315fd0>"
      ]
     },
     "metadata": {},
     "output_type": "display_data"
    }
   ],
   "source": [
    "confusionmatrix_svc_RBF=metrics.confusion_matrix(test_data.Class,predicted_svc_RBF)\n",
    "plt.figure()\n",
    "sns.heatmap(confusionmatrix_svc_RBF,annot=True,fmt='d')\n",
    "plt.show()"
   ]
  },
  {
   "cell_type": "markdown",
   "metadata": {},
   "source": [
    "# # Applying Decision Tree On Text"
   ]
  },
  {
   "cell_type": "code",
   "execution_count": 103,
   "metadata": {},
   "outputs": [
    {
     "data": {
      "text/plain": [
       "DecisionTreeClassifier(class_weight=None, criterion='gini', max_depth=6,\n",
       "            max_features=None, max_leaf_nodes=None,\n",
       "            min_impurity_split=1e-07, min_samples_leaf=1,\n",
       "            min_samples_split=2, min_weight_fraction_leaf=0.0,\n",
       "            presort=False, random_state=None, splitter='best')"
      ]
     },
     "execution_count": 103,
     "metadata": {},
     "output_type": "execute_result"
    }
   ],
   "source": [
    "from sklearn import tree\n",
    "clf=tree.DecisionTreeClassifier(max_depth=6)\n",
    "clf.fit(train_data_features,train_data.Class)"
   ]
  },
  {
   "cell_type": "code",
   "execution_count": 104,
   "metadata": {
    "collapsed": true
   },
   "outputs": [],
   "source": [
    "predicted_DecisionTree=clf.predict(test_data_features)"
   ]
  },
  {
   "cell_type": "code",
   "execution_count": 105,
   "metadata": {},
   "outputs": [
    {
     "data": {
      "text/plain": [
       "0.4238143289606458"
      ]
     },
     "execution_count": 105,
     "metadata": {},
     "output_type": "execute_result"
    }
   ],
   "source": [
    "metrics.accuracy_score(test_data.Class,predicted_DecisionTree)"
   ]
  },
  {
   "cell_type": "code",
   "execution_count": 106,
   "metadata": {},
   "outputs": [
    {
     "data": {
      "image/png": "[encoded data removed]",
      "text/plain": [
       "<matplotlib.figure.Figure at 0x862e8470>"
      ]
     },
     "metadata": {},
     "output_type": "display_data"
    }
   ],
   "source": [
    "confusionmatrix_DecisionTree=metrics.confusion_matrix(test_data.Class,predicted_DecisionTree)\n",
    "plt.figure()\n",
    "sns.heatmap(confusionmatrix_DecisionTree,annot=True,fmt='d')\n",
    "plt.show()"
   ]
  },
  {
   "cell_type": "markdown",
   "metadata": {},
   "source": [
    "## Applying tfidf + Count Vectorizer + Linear SVC"
   ]
  },
  {
   "cell_type": "code",
   "execution_count": 107,
   "metadata": {},
   "outputs": [],
   "source": [
    "X_train = train_data['TEXT'].values\n",
    "X_test = test_data['TEXT'].values\n",
    "y_train = train_data['Class'].values\n",
    "y_test = test_data['Class'].values\n",
    "\n"
   ]
  },
  {
   "cell_type": "code",
   "execution_count": 108,
   "metadata": {
    "collapsed": true
   },
   "outputs": [],
   "source": [
    "from sklearn.pipeline import Pipeline\n",
    "from sklearn.feature_extraction.text import CountVectorizer\n",
    "from sklearn.feature_extraction.text import TfidfTransformer\n",
    "from sklearn import svm\n"
   ]
  },
  {
   "cell_type": "code",
   "execution_count": 109,
   "metadata": {},
   "outputs": [],
   "source": [
    "text_clf = Pipeline([('vect', CountVectorizer()),\n",
    "                     ('tfidf', TfidfTransformer()),\n",
    "                     ('clf', svm.LinearSVC())\n",
    "])\n",
    "text_clf = text_clf.fit(X_train,y_train)"
   ]
  },
  {
   "cell_type": "code",
   "execution_count": 110,
   "metadata": {},
   "outputs": [
    {
     "data": {
      "text/plain": [
       "0.43491422805247226"
      ]
     },
     "execution_count": 110,
     "metadata": {},
     "output_type": "execute_result"
    }
   ],
   "source": [
    "y_test_predicted = text_clf.predict(X_test)\n",
    "metrics.accuracy_score(y_test,y_test_predicted)\n",
    "\n",
    "\n"
   ]
  },
  {
   "cell_type": "code",
   "execution_count": 111,
   "metadata": {},
   "outputs": [
    {
     "data": {
      "image/png": "[encoded data removed]",
      "text/plain": [
       "<matplotlib.figure.Figure at 0x91c412b0>"
      ]
     },
     "metadata": {},
     "output_type": "display_data"
    }
   ],
   "source": [
    "confusionmatrix_Linear_svc_Tfidf=metrics.confusion_matrix(y_test,y_test_predicted)\n",
    "plt.figure()\n",
    "sns.heatmap(confusionmatrix_Linear_svc_Tfidf,annot=True,fmt='d')\n",
    "plt.show()"
   ]
  },
  {
   "cell_type": "code",
   "execution_count": null,
   "metadata": {
    "collapsed": true
   },
   "outputs": [],
   "source": []
  },
  {
   "cell_type": "code",
   "execution_count": 112,
   "metadata": {},
   "outputs": [
    {
     "data": {
      "text/plain": [
       "KNeighborsClassifier(algorithm='auto', leaf_size=30, metric='minkowski',\n",
       "           metric_params=None, n_jobs=1, n_neighbors=9, p=2,\n",
       "           weights='distance')"
      ]
     },
     "execution_count": 112,
     "metadata": {},
     "output_type": "execute_result"
    }
   ],
   "source": [
    "from sklearn.neighbors import KNeighborsClassifier\n",
    "clf_kNearest= KNeighborsClassifier(n_neighbors=9,weights='distance',p=2)\n",
    "clf_kNearest.fit(train_data_features,train_data.Class)"
   ]
  },
  {
   "cell_type": "code",
   "execution_count": 113,
   "metadata": {},
   "outputs": [],
   "source": [
    "predict_clf_kNearest=clf_kNearest.predict(test_data_features)"
   ]
  },
  {
   "cell_type": "code",
   "execution_count": 114,
   "metadata": {},
   "outputs": [
    {
     "data": {
      "text/plain": [
       "0.33299697275479312"
      ]
     },
     "execution_count": 114,
     "metadata": {},
     "output_type": "execute_result"
    }
   ],
   "source": [
    "metrics.accuracy_score(test_data.Class,predict_clf_kNearest)"
   ]
  },
  {
   "cell_type": "code",
   "execution_count": 115,
   "metadata": {},
   "outputs": [
    {
     "data": {
      "image/png": "[encoded data removed]",
      "text/plain": [
       "<matplotlib.figure.Figure at 0x99226c50>"
      ]
     },
     "metadata": {},
     "output_type": "display_data"
    }
   ],
   "source": [
    "\n",
    "confusionmatrix_KNearest=metrics.confusion_matrix(test_data.Class,predict_clf_kNearest)\n",
    "plt.figure()\n",
    "sns.heatmap(confusionmatrix_KNearest,annot=True,fmt='d')\n",
    "plt.show()"
   ]
  },
  {
   "cell_type": "code",
   "execution_count": null,
   "metadata": {
    "collapsed": true
   },
   "outputs": [],
   "source": []
  },
  {
   "cell_type": "code",
   "execution_count": 116,
   "metadata": {},
   "outputs": [
    {
     "data": {
      "text/plain": [
       "<2330x2109893 sparse matrix of type '<type 'numpy.int64'>'\n",
       "\twith 10056910 stored elements in Compressed Sparse Row format>"
      ]
     },
     "execution_count": 116,
     "metadata": {},
     "output_type": "execute_result"
    }
   ],
   "source": [
    "from sklearn.feature_extraction.text import CountVectorizer\n",
    "vectorizer = CountVectorizer(ngram_range=(2,2)) \n",
    "train_data_features = vectorizer.fit_transform(train_text_LogisticRegression)\n",
    "train_data_features"
   ]
  },
  {
   "cell_type": "code",
   "execution_count": 117,
   "metadata": {
    "collapsed": true
   },
   "outputs": [],
   "source": [
    "test_data_features=vectorizer.transform(test_text_LogisticRegression)"
   ]
  },
  {
   "cell_type": "code",
   "execution_count": 118,
   "metadata": {},
   "outputs": [
    {
     "data": {
      "text/plain": [
       "LogisticRegression(C=1.0, class_weight='balanced', dual=False,\n",
       "          fit_intercept=True, intercept_scaling=1, max_iter=100,\n",
       "          multi_class='ovr', n_jobs=1, penalty='l1', random_state=None,\n",
       "          solver='liblinear', tol=0.0001, verbose=0, warm_start=False)"
      ]
     },
     "execution_count": 118,
     "metadata": {},
     "output_type": "execute_result"
    }
   ],
   "source": [
    "\n",
    "from sklearn.linear_model import LogisticRegression\n",
    "lr_clf= LogisticRegression(penalty='l1',class_weight='balanced')\n",
    "lr_clf.fit(train_data_features,train_data_LogisticRegression.Class)\n"
   ]
  },
  {
   "cell_type": "code",
   "execution_count": 119,
   "metadata": {},
   "outputs": [
    {
     "name": "stdout",
     "output_type": "stream",
     "text": [
      "0.404641775984\n"
     ]
    }
   ],
   "source": [
    "\n",
    "target_predicted_Log_Reg=lr_clf.predict(test_data_features)\n",
    "print metrics.accuracy_score(test_data_LogisticRegression.Class,target_predicted_Log_Reg)"
   ]
  }
 ],
 "metadata": {
  "kernelspec": {
   "display_name": "Python 2",
   "language": "python",
   "name": "python2"
  },
  "language_info": {
   "codemirror_mode": {
    "name": "ipython",
    "version": 2
   },
   "file_extension": ".py",
   "mimetype": "text/x-python",
   "name": "python",
   "nbconvert_exporter": "python",
   "pygments_lexer": "ipython2",
   "version": "2.7.13"
  }
 },
 "nbformat": 4,
 "nbformat_minor": 2
}
